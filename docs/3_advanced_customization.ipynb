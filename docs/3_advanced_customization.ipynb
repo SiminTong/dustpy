{
 "cells": [
  {
   "cell_type": "markdown",
   "metadata": {},
   "source": [
    "# 3. Advanced Customization\n",
    "\n",
    "The core principle of `DustPy` is that you can change anything easily. Not only the initial conditions as shown in the previous chapter, but also the physics behind the simulation."
   ]
  },
  {
   "cell_type": "code",
   "execution_count": 1,
   "metadata": {
    "execution": {
     "iopub.execute_input": "2021-12-15T09:47:24.421895Z",
     "iopub.status.busy": "2021-12-15T09:47:24.420629Z",
     "iopub.status.idle": "2021-12-15T09:47:25.226131Z",
     "shell.execute_reply": "2021-12-15T09:47:25.224923Z"
    }
   },
   "outputs": [],
   "source": [
    "from dustpy import Simulation"
   ]
  },
  {
   "cell_type": "code",
   "execution_count": 2,
   "metadata": {
    "execution": {
     "iopub.execute_input": "2021-12-15T09:47:25.232016Z",
     "iopub.status.busy": "2021-12-15T09:47:25.230883Z",
     "iopub.status.idle": "2021-12-15T09:47:25.233212Z",
     "shell.execute_reply": "2021-12-15T09:47:25.234132Z"
    }
   },
   "outputs": [],
   "source": [
    "sim = Simulation()"
   ]
  },
  {
   "cell_type": "markdown",
   "metadata": {},
   "source": [
    "## Customizing the Grids\n",
    "\n",
    "By default the radial and the mass grid will be created when calling `Simulation.initialize()`. But there can be situations where you need to know the grid sizes before completely initializing the Simulation object. For example if you want to create custom fields and you need to initialize them with the correct shape.\n",
    "\n",
    "In that case you can call `Simulation.makegrids()` to only create the grids without initializing the simulation objects. In fact, `Simulation.makegrids()` is by default called within `Simulation.initialize()`."
   ]
  },
  {
   "cell_type": "code",
   "execution_count": 3,
   "metadata": {
    "execution": {
     "iopub.execute_input": "2021-12-15T09:47:25.241804Z",
     "iopub.status.busy": "2021-12-15T09:47:25.240675Z",
     "iopub.status.idle": "2021-12-15T09:47:25.248087Z",
     "shell.execute_reply": "2021-12-15T09:47:25.247097Z"
    }
   },
   "outputs": [
    {
     "data": {
      "text/plain": [
       "Group (Grid quantities)\n",
       "-----------------------\n",
       "    A            : NoneType\n",
       "    m            : NoneType\n",
       "    Nm           : NoneType\n",
       "    Nr           : NoneType\n",
       "    OmegaK       : NoneType\n",
       "    r            : NoneType\n",
       "    ri           : NoneType\n",
       "  -----"
      ]
     },
     "execution_count": 3,
     "metadata": {},
     "output_type": "execute_result"
    }
   ],
   "source": [
    "sim.grid"
   ]
  },
  {
   "cell_type": "code",
   "execution_count": 4,
   "metadata": {
    "execution": {
     "iopub.execute_input": "2021-12-15T09:47:25.254524Z",
     "iopub.status.busy": "2021-12-15T09:47:25.253685Z",
     "iopub.status.idle": "2021-12-15T09:47:25.256298Z",
     "shell.execute_reply": "2021-12-15T09:47:25.256924Z"
    }
   },
   "outputs": [],
   "source": [
    "sim.makegrids()"
   ]
  },
  {
   "cell_type": "code",
   "execution_count": 5,
   "metadata": {
    "execution": {
     "iopub.execute_input": "2021-12-15T09:47:25.263739Z",
     "iopub.status.busy": "2021-12-15T09:47:25.262722Z",
     "iopub.status.idle": "2021-12-15T09:47:25.266648Z",
     "shell.execute_reply": "2021-12-15T09:47:25.267482Z"
    }
   },
   "outputs": [
    {
     "data": {
      "text/plain": [
       "Group (Grid quantities)\n",
       "-----------------------\n",
       "    A            : Field (Radial grid annulus area [cm²]), \u001b[95mconstant\u001b[0m\n",
       "    m            : Field (Mass grid [g]), \u001b[95mconstant\u001b[0m\n",
       "    Nm           : Field (# of mass bins), \u001b[95mconstant\u001b[0m\n",
       "    Nr           : Field (# of radial grid cells), \u001b[95mconstant\u001b[0m\n",
       "    r            : Field (Radial grid cell centers [cm]), \u001b[95mconstant\u001b[0m\n",
       "    ri           : Field (Radial grid cell interfaces [cm]), \u001b[95mconstant\u001b[0m\n",
       "  -----\n",
       "    OmegaK       : NoneType\n",
       "  -----"
      ]
     },
     "execution_count": 5,
     "metadata": {},
     "output_type": "execute_result"
    }
   ],
   "source": [
    "sim.grid"
   ]
  },
  {
   "cell_type": "markdown",
   "metadata": {},
   "source": [
    "Note that the Keplerian frequency has not been initialized at this point."
   ]
  },
  {
   "cell_type": "markdown",
   "metadata": {},
   "source": [
    "### The Radial Grid\n",
    "\n",
    "By default the radial grid is a regular logarithmic grid. Meaning, the ratio of adjacent grid cells is constant."
   ]
  },
  {
   "cell_type": "code",
   "execution_count": 6,
   "metadata": {
    "execution": {
     "iopub.execute_input": "2021-12-15T09:47:25.278347Z",
     "iopub.status.busy": "2021-12-15T09:47:25.277391Z",
     "iopub.status.idle": "2021-12-15T09:47:25.282480Z",
     "shell.execute_reply": "2021-12-15T09:47:25.281491Z"
    }
   },
   "outputs": [
    {
     "data": {
      "text/plain": [
       "[1.07151931 1.07151931 1.07151931 1.07151931 1.07151931 1.07151931\n",
       " 1.07151931 1.07151931 1.07151931 1.07151931 1.07151931 1.07151931\n",
       " 1.07151931 1.07151931 1.07151931 1.07151931 1.07151931 1.07151931\n",
       " 1.07151931 1.07151931 1.07151931 1.07151931 1.07151931 1.07151931\n",
       " 1.07151931 1.07151931 1.07151931 1.07151931 1.07151931 1.07151931\n",
       " 1.07151931 1.07151931 1.07151931 1.07151931 1.07151931 1.07151931\n",
       " 1.07151931 1.07151931 1.07151931 1.07151931 1.07151931 1.07151931\n",
       " 1.07151931 1.07151931 1.07151931 1.07151931 1.07151931 1.07151931\n",
       " 1.07151931 1.07151931 1.07151931 1.07151931 1.07151931 1.07151931\n",
       " 1.07151931 1.07151931 1.07151931 1.07151931 1.07151931 1.07151931\n",
       " 1.07151931 1.07151931 1.07151931 1.07151931 1.07151931 1.07151931\n",
       " 1.07151931 1.07151931 1.07151931 1.07151931 1.07151931 1.07151931\n",
       " 1.07151931 1.07151931 1.07151931 1.07151931 1.07151931 1.07151931\n",
       " 1.07151931 1.07151931 1.07151931 1.07151931 1.07151931 1.07151931\n",
       " 1.07151931 1.07151931 1.07151931 1.07151931 1.07151931 1.07151931\n",
       " 1.07151931 1.07151931 1.07151931 1.07151931 1.07151931 1.07151931\n",
       " 1.07151931 1.07151931 1.07151931]"
      ]
     },
     "execution_count": 6,
     "metadata": {},
     "output_type": "execute_result"
    }
   ],
   "source": [
    "sim.grid.r[1:]/sim.grid.r[:-1]"
   ]
  },
  {
   "cell_type": "markdown",
   "metadata": {},
   "source": [
    "As explained in the previous chapter, the location of the grid boundaries and the number of grid cells can be controlled via `Simulation.ini.grid.rmin`, `Simulation.ini.grid.rmax`, and `Simulation.ini.grid.Nr`.  \n",
    "`Simulation.makegrids()` will use these parameters to create the radial grid.\n",
    "\n",
    "But it is also possible to completely customize the radial grid. To do so you have to set the locations of the radial grid cell interfaces `Simulation.grid.ri` before calling either `Simulation.makegrids()` or `Simulation.initialize()`.\n",
    "\n",
    "In this example we simply want to refine the grid at a given location. We use this helper function, which takes an existing grid `ri` and  doubles the number of grid cells in a region `num` grid cells on both sides around location `r0`. We also recursively call this function with reduced `num` to even further refine the grid and to have a smooth transition between the high and low resolution regions."
   ]
  },
  {
   "cell_type": "code",
   "execution_count": 7,
   "metadata": {
    "execution": {
     "iopub.execute_input": "2021-12-15T09:47:25.296286Z",
     "iopub.status.busy": "2021-12-15T09:47:25.295106Z",
     "iopub.status.idle": "2021-12-15T09:47:25.298746Z",
     "shell.execute_reply": "2021-12-15T09:47:25.297758Z"
    }
   },
   "outputs": [],
   "source": [
    "import numpy as np\n",
    "\n",
    "def refinegrid(ri, r0, num=3):\n",
    "    \"\"\"Function to refine the radial grid\n",
    "    \n",
    "    Parameters\n",
    "    ----------\n",
    "    ri : array\n",
    "        Radial grid\n",
    "    r0 : float\n",
    "        Radial location around which grid should be refined\n",
    "    num : int, option, default : 3\n",
    "        Number of refinement iterations\n",
    "        \n",
    "    Returns\n",
    "    -------\n",
    "    ri : array\n",
    "        New refined radial grid\"\"\"\n",
    "    if num == 0:\n",
    "        return ri\n",
    "    ind = np.argmin(r0 > ri) - 1\n",
    "    indl = ind-num\n",
    "    indr = ind+num+1\n",
    "    ril = ri[:indl]\n",
    "    rir = ri[indr:]\n",
    "    N = (2*num+1)*2\n",
    "    rim = np.empty(N)\n",
    "    for i in range(0, N, 2):\n",
    "        j = ind-num+int(i/2)\n",
    "        rim[i] = ri[j]\n",
    "        rim[i+1] = 0.5*(ri[j]+ri[j+1])\n",
    "    ri = np.concatenate((ril, rim, rir))\n",
    "    return refinegrid(ri, r0, num=num-1)"
   ]
  },
  {
   "cell_type": "markdown",
   "metadata": {},
   "source": [
    "We now create a regular logarithmic grid and feed it to our function. We want to refine the grid in a location around $4.5\\,\\mathrm{AU}$."
   ]
  },
  {
   "cell_type": "code",
   "execution_count": 8,
   "metadata": {
    "execution": {
     "iopub.execute_input": "2021-12-15T09:47:25.305609Z",
     "iopub.status.busy": "2021-12-15T09:47:25.304472Z",
     "iopub.status.idle": "2021-12-15T09:47:25.307298Z",
     "shell.execute_reply": "2021-12-15T09:47:25.308206Z"
    }
   },
   "outputs": [],
   "source": [
    "import dustpy.constants as c"
   ]
  },
  {
   "cell_type": "code",
   "execution_count": 9,
   "metadata": {
    "execution": {
     "iopub.execute_input": "2021-12-15T09:47:25.316181Z",
     "iopub.status.busy": "2021-12-15T09:47:25.315066Z",
     "iopub.status.idle": "2021-12-15T09:47:25.317666Z",
     "shell.execute_reply": "2021-12-15T09:47:25.318588Z"
    }
   },
   "outputs": [],
   "source": [
    "ri = np.logspace(0., 3., num=100, base=10.) * c.au"
   ]
  },
  {
   "cell_type": "code",
   "execution_count": 10,
   "metadata": {
    "execution": {
     "iopub.execute_input": "2021-12-15T09:47:25.326444Z",
     "iopub.status.busy": "2021-12-15T09:47:25.325267Z",
     "iopub.status.idle": "2021-12-15T09:47:25.328080Z",
     "shell.execute_reply": "2021-12-15T09:47:25.328994Z"
    }
   },
   "outputs": [],
   "source": [
    "ri = refinegrid(ri, 4.5*c.au, num=3)"
   ]
  },
  {
   "cell_type": "markdown",
   "metadata": {},
   "source": [
    "We can now create a new empty Simulation object, assign the grid cell interfaces and initialize the grids."
   ]
  },
  {
   "cell_type": "code",
   "execution_count": 11,
   "metadata": {
    "execution": {
     "iopub.execute_input": "2021-12-15T09:47:25.336980Z",
     "iopub.status.busy": "2021-12-15T09:47:25.335860Z",
     "iopub.status.idle": "2021-12-15T09:47:25.338503Z",
     "shell.execute_reply": "2021-12-15T09:47:25.339414Z"
    }
   },
   "outputs": [],
   "source": [
    "sim = Simulation()"
   ]
  },
  {
   "cell_type": "code",
   "execution_count": 12,
   "metadata": {
    "execution": {
     "iopub.execute_input": "2021-12-15T09:47:25.346696Z",
     "iopub.status.busy": "2021-12-15T09:47:25.345525Z",
     "iopub.status.idle": "2021-12-15T09:47:25.348182Z",
     "shell.execute_reply": "2021-12-15T09:47:25.349098Z"
    }
   },
   "outputs": [],
   "source": [
    "sim.grid.ri = ri"
   ]
  },
  {
   "cell_type": "code",
   "execution_count": 13,
   "metadata": {
    "execution": {
     "iopub.execute_input": "2021-12-15T09:47:25.357323Z",
     "iopub.status.busy": "2021-12-15T09:47:25.356193Z",
     "iopub.status.idle": "2021-12-15T09:47:25.360175Z",
     "shell.execute_reply": "2021-12-15T09:47:25.361090Z"
    }
   },
   "outputs": [
    {
     "data": {
      "text/plain": [
       "Group (Grid quantities)\n",
       "-----------------------\n",
       "    A            : NoneType\n",
       "    m            : NoneType\n",
       "    Nm           : NoneType\n",
       "    Nr           : NoneType\n",
       "    OmegaK       : NoneType\n",
       "    r            : NoneType\n",
       "    ri           : ndarray\n",
       "  -----"
      ]
     },
     "execution_count": 13,
     "metadata": {},
     "output_type": "execute_result"
    }
   ],
   "source": [
    "sim.grid"
   ]
  },
  {
   "cell_type": "markdown",
   "metadata": {},
   "source": [
    "**Note:** it is sufficient to assign a `numpy.ndarray` to `Simulation.grid.ri` and not a `simframe.Field`.\n",
    "\n",
    "We can now make the grids."
   ]
  },
  {
   "cell_type": "code",
   "execution_count": 14,
   "metadata": {
    "execution": {
     "iopub.execute_input": "2021-12-15T09:47:25.369003Z",
     "iopub.status.busy": "2021-12-15T09:47:25.367880Z",
     "iopub.status.idle": "2021-12-15T09:47:25.371614Z",
     "shell.execute_reply": "2021-12-15T09:47:25.370654Z"
    }
   },
   "outputs": [],
   "source": [
    "sim.makegrids()"
   ]
  },
  {
   "cell_type": "code",
   "execution_count": 15,
   "metadata": {
    "execution": {
     "iopub.execute_input": "2021-12-15T09:47:25.379776Z",
     "iopub.status.busy": "2021-12-15T09:47:25.378651Z",
     "iopub.status.idle": "2021-12-15T09:47:25.382644Z",
     "shell.execute_reply": "2021-12-15T09:47:25.383550Z"
    }
   },
   "outputs": [
    {
     "data": {
      "text/plain": [
       "Group (Grid quantities)\n",
       "-----------------------\n",
       "    A            : Field (Radial grid annulus area [cm²]), \u001b[95mconstant\u001b[0m\n",
       "    m            : Field (Mass grid [g]), \u001b[95mconstant\u001b[0m\n",
       "    Nm           : Field (# of mass bins), \u001b[95mconstant\u001b[0m\n",
       "    Nr           : Field (# of radial grid cells), \u001b[95mconstant\u001b[0m\n",
       "    r            : Field (Radial grid cell centers [cm]), \u001b[95mconstant\u001b[0m\n",
       "    ri           : Field (Radial grid cell interfaces [cm]), \u001b[95mconstant\u001b[0m\n",
       "  -----\n",
       "    OmegaK       : NoneType\n",
       "  -----"
      ]
     },
     "execution_count": 15,
     "metadata": {},
     "output_type": "execute_result"
    }
   ],
   "source": [
    "sim.grid"
   ]
  },
  {
   "cell_type": "markdown",
   "metadata": {},
   "source": [
    "As you can see, `Simulation.grid.ri` was automatically converted to a `simframe.Field` and the other fields were created. The number of radial grid cells is greater than $100$ as we added more grid cells."
   ]
  },
  {
   "cell_type": "code",
   "execution_count": 16,
   "metadata": {
    "execution": {
     "iopub.execute_input": "2021-12-15T09:47:25.391958Z",
     "iopub.status.busy": "2021-12-15T09:47:25.390836Z",
     "iopub.status.idle": "2021-12-15T09:47:25.394753Z",
     "shell.execute_reply": "2021-12-15T09:47:25.395667Z"
    }
   },
   "outputs": [
    {
     "data": {
      "text/plain": [
       "114"
      ]
     },
     "execution_count": 16,
     "metadata": {},
     "output_type": "execute_result"
    }
   ],
   "source": [
    "sim.grid.Nr"
   ]
  },
  {
   "cell_type": "markdown",
   "metadata": {},
   "source": [
    "To see that we actually refined the grid at the correct location, we can plot the location of the radial grid cells."
   ]
  },
  {
   "cell_type": "code",
   "execution_count": 17,
   "metadata": {
    "execution": {
     "iopub.execute_input": "2021-12-15T09:47:25.402884Z",
     "iopub.status.busy": "2021-12-15T09:47:25.401740Z",
     "iopub.status.idle": "2021-12-15T09:47:25.405472Z",
     "shell.execute_reply": "2021-12-15T09:47:25.404527Z"
    }
   },
   "outputs": [],
   "source": [
    "import matplotlib.pyplot as plt"
   ]
  },
  {
   "cell_type": "code",
   "execution_count": 18,
   "metadata": {
    "execution": {
     "iopub.execute_input": "2021-12-15T09:47:25.424138Z",
     "iopub.status.busy": "2021-12-15T09:47:25.421770Z",
     "iopub.status.idle": "2021-12-15T09:47:26.088125Z",
     "shell.execute_reply": "2021-12-15T09:47:26.089044Z"
    }
   },
   "outputs": [
    {
     "data": {
      "image/png": "[encoded data removed]",
      "text/plain": [
       "<Figure size 900x600 with 1 Axes>"
      ]
     },
     "metadata": {
      "needs_background": "light"
     },
     "output_type": "display_data"
    }
   ],
   "source": [
    "fig = plt.figure(dpi=150)\n",
    "ax = fig.add_subplot(111)\n",
    "ax.semilogy(sim.grid.r/c.au)\n",
    "ax.axhline(4.5, c=\"gray\", lw=1)\n",
    "ax.set_xlabel(\"# of radial grid cell\")\n",
    "ax.set_ylabel(\"Location of radial grid cell [AU]\")\n",
    "fig.tight_layout()\n",
    "plt.show()"
   ]
  },
  {
   "cell_type": "markdown",
   "metadata": {},
   "source": [
    "The position of the radial grid cells have to be exactly in the center between their grid cell interfaces and are automatically calculated by `Simulation.makegrids()`."
   ]
  },
  {
   "cell_type": "code",
   "execution_count": 19,
   "metadata": {
    "execution": {
     "iopub.execute_input": "2021-12-15T09:47:26.096615Z",
     "iopub.status.busy": "2021-12-15T09:47:26.095488Z",
     "iopub.status.idle": "2021-12-15T09:47:26.099464Z",
     "shell.execute_reply": "2021-12-15T09:47:26.100381Z"
    }
   },
   "outputs": [
    {
     "data": {
      "text/plain": [
       "[ True  True  True  True  True  True  True  True  True  True  True  True\n",
       "  True  True  True  True  True  True  True  True  True  True  True  True\n",
       "  True  True  True  True  True  True  True  True  True  True  True  True\n",
       "  True  True  True  True  True  True  True  True  True  True  True  True\n",
       "  True  True  True  True  True  True  True  True  True  True  True  True\n",
       "  True  True  True  True  True  True  True  True  True  True  True  True\n",
       "  True  True  True  True  True  True  True  True  True  True  True  True\n",
       "  True  True  True  True  True  True  True  True  True  True  True  True\n",
       "  True  True  True  True  True  True  True  True  True  True  True  True\n",
       "  True  True  True  True  True  True]"
      ]
     },
     "execution_count": 19,
     "metadata": {},
     "output_type": "execute_result"
    }
   ],
   "source": [
    "sim.grid.r == 0.5 * (sim.grid.ri[1:] + sim.grid.ri[:-1])"
   ]
  },
  {
   "cell_type": "markdown",
   "metadata": {},
   "source": [
    "### The Mass Grid\n",
    "\n",
    "You should **NEVER** set the mass grid manually! The mass grid has to be strictly logarithmic. Only customize the mass grid by setting `Simulation.ini.grid.mmin`, `Simulation.ini.grid.mmax`, and `Simulation.ini.grid.Nmbpd`.\n",
    "\n",
    "If you have to create your own non-logarithmic mass grid for some reason, be aware that you have to re-write the entire coagulation algorithm as well, since it only conserves mass on a logarithmic grid."
   ]
  },
  {
   "cell_type": "markdown",
   "metadata": {},
   "source": [
    "## Customizing the Physics of a Field\n",
    "\n",
    "In this example we want to have a fragmentation velocity that depends on the temperature in the disk. Is the temperature below 150 K, we want to have a fragmentation velocity of 10 m/s, otherwise it shall be 1 m/s. The idea behind this approach is than particles coated in water ice are stickier that pure silicate particles and can widthstand higher collision velocities. See for example [Pinilla et al. (2017)](https://doi.org/10.3847/1538-4357/aa7edb). However, keep in mind that newer experiments suggest that particles covered in water ice do not have a beneficial collisional behavior, see e.g. [Musiolik & Wurm (2019)](https://doi.org/10.3847/1538-4357/ab0428).\n",
    "\n",
    "First, we initialize our simulation object."
   ]
  },
  {
   "cell_type": "code",
   "execution_count": 20,
   "metadata": {
    "execution": {
     "iopub.execute_input": "2021-12-15T09:47:26.154043Z",
     "iopub.status.busy": "2021-12-15T09:47:26.152907Z",
     "iopub.status.idle": "2021-12-15T09:47:26.468144Z",
     "shell.execute_reply": "2021-12-15T09:47:26.467211Z"
    }
   },
   "outputs": [],
   "source": [
    "sim.initialize()"
   ]
  },
  {
   "cell_type": "markdown",
   "metadata": {},
   "source": [
    "The fragmentation velocity has the shape `(Nr,)`, meaning there is one value at every location in the grid."
   ]
  },
  {
   "cell_type": "code",
   "execution_count": 21,
   "metadata": {
    "execution": {
     "iopub.execute_input": "2021-12-15T09:47:26.475762Z",
     "iopub.status.busy": "2021-12-15T09:47:26.474638Z",
     "iopub.status.idle": "2021-12-15T09:47:26.478542Z",
     "shell.execute_reply": "2021-12-15T09:47:26.479451Z"
    }
   },
   "outputs": [
    {
     "data": {
      "text/plain": [
       "(114,)"
      ]
     },
     "execution_count": 21,
     "metadata": {},
     "output_type": "execute_result"
    }
   ],
   "source": [
    "sim.dust.v.frag.shape"
   ]
  },
  {
   "cell_type": "markdown",
   "metadata": {},
   "source": [
    "But right now it's constant."
   ]
  },
  {
   "cell_type": "code",
   "execution_count": 22,
   "metadata": {
    "execution": {
     "iopub.execute_input": "2021-12-15T09:47:26.501304Z",
     "iopub.status.busy": "2021-12-15T09:47:26.495837Z",
     "iopub.status.idle": "2021-12-15T09:47:26.790866Z",
     "shell.execute_reply": "2021-12-15T09:47:26.791790Z"
    }
   },
   "outputs": [
    {
     "data": {
      "image/png": "[encoded data removed]",
      "text/plain": [
       "<Figure size 900x600 with 1 Axes>"
      ]
     },
     "metadata": {
      "needs_background": "light"
     },
     "output_type": "display_data"
    }
   ],
   "source": [
    "fig = plt.figure(dpi=150)\n",
    "ax = fig.add_subplot(111)\n",
    "ax.semilogx(sim.grid.r/c.au, sim.dust.v.frag)\n",
    "ax.set_xlabel(\"Distance from star [AU]\")\n",
    "ax.set_ylabel(\"Fragmentation velocity [cm/s]\")\n",
    "fig.tight_layout()\n",
    "plt.show()"
   ]
  },
  {
   "cell_type": "markdown",
   "metadata": {},
   "source": [
    "We have to write a function that takes the simulation object as input parameter and returns our desired fragmentation velocities. We can use the fact that the gas temperature has the same shape. Keep in mind that everything has to be in cgs units."
   ]
  },
  {
   "cell_type": "code",
   "execution_count": 23,
   "metadata": {
    "execution": {
     "iopub.execute_input": "2021-12-15T09:47:26.798260Z",
     "iopub.status.busy": "2021-12-15T09:47:26.797125Z",
     "iopub.status.idle": "2021-12-15T09:47:26.801043Z",
     "shell.execute_reply": "2021-12-15T09:47:26.801952Z"
    }
   },
   "outputs": [
    {
     "data": {
      "text/plain": [
       "(114,)"
      ]
     },
     "execution_count": 23,
     "metadata": {},
     "output_type": "execute_result"
    }
   ],
   "source": [
    "sim.gas.T.shape"
   ]
  },
  {
   "cell_type": "code",
   "execution_count": 24,
   "metadata": {
    "execution": {
     "iopub.execute_input": "2021-12-15T09:47:26.808025Z",
     "iopub.status.busy": "2021-12-15T09:47:26.806958Z",
     "iopub.status.idle": "2021-12-15T09:47:26.809117Z",
     "shell.execute_reply": "2021-12-15T09:47:26.809934Z"
    }
   },
   "outputs": [],
   "source": [
    "def v_frag(sim):\n",
    "    return np.where(sim.gas.T<150., 1000., 100)"
   ]
  },
  {
   "cell_type": "markdown",
   "metadata": {},
   "source": [
    "We can now assign this function to the updater of the dust fragmentation velocities. For details of this process, please have a look at the [Simframe documentation](https://simframe.rtfd.io)."
   ]
  },
  {
   "cell_type": "code",
   "execution_count": 25,
   "metadata": {
    "execution": {
     "iopub.execute_input": "2021-12-15T09:47:26.815975Z",
     "iopub.status.busy": "2021-12-15T09:47:26.814956Z",
     "iopub.status.idle": "2021-12-15T09:47:26.817848Z",
     "shell.execute_reply": "2021-12-15T09:47:26.817127Z"
    }
   },
   "outputs": [],
   "source": [
    "sim.dust.v.frag.updater = v_frag"
   ]
  },
  {
   "cell_type": "markdown",
   "metadata": {},
   "source": [
    "The updater of a group/field stores a `simframe.Heatbeat` object. When calling the `update()` function the heartbeat will be executed which consists of a `systole`, the actual `updater`, and a `diastole`. The `systole` is executed before the actual update functions, the `diastole` afterwards.\n",
    "\n",
    "When assigning a function (or `None`) to the updater of a group/field a new `Heartbeat` object will be created with empty systoles and diastoles only executing the update function. If the existing updater already has systoles/diastoles, those would be overwritten with an empty function.\n",
    "\n",
    "To prevent this you can directly assign the function only to the updater leaving the systoles/diastoles as they are."
   ]
  },
  {
   "cell_type": "code",
   "execution_count": 26,
   "metadata": {
    "execution": {
     "iopub.execute_input": "2021-12-15T09:47:26.823259Z",
     "iopub.status.busy": "2021-12-15T09:47:26.822396Z",
     "iopub.status.idle": "2021-12-15T09:47:26.825217Z",
     "shell.execute_reply": "2021-12-15T09:47:26.825891Z"
    }
   },
   "outputs": [],
   "source": [
    "sim.dust.v.updater.updater = v_frag"
   ]
  },
  {
   "cell_type": "markdown",
   "metadata": {},
   "source": [
    "The systoles/diastoles can be set with the following command. Only for demonstration here, since we assign `None`. Read more about this in the section about Systoles and Diastoles."
   ]
  },
  {
   "cell_type": "code",
   "execution_count": 27,
   "metadata": {
    "execution": {
     "iopub.execute_input": "2021-12-15T09:47:26.832104Z",
     "iopub.status.busy": "2021-12-15T09:47:26.831296Z",
     "iopub.status.idle": "2021-12-15T09:47:26.834512Z",
     "shell.execute_reply": "2021-12-15T09:47:26.835141Z"
    }
   },
   "outputs": [],
   "source": [
    "sim.dust.v.updater.systole = None\n",
    "sim.dust.v.updater.diastole = None"
   ]
  },
  {
   "cell_type": "markdown",
   "metadata": {},
   "source": [
    "As of now, the simulation object still holds the old data for the fragmentation velocity. We have to tell it to update itself. We can either update the whole simulation frame with `Simulation.update()`, or we just update the fragmentation velocities."
   ]
  },
  {
   "cell_type": "code",
   "execution_count": 28,
   "metadata": {
    "execution": {
     "iopub.execute_input": "2021-12-15T09:47:26.842545Z",
     "iopub.status.busy": "2021-12-15T09:47:26.841506Z",
     "iopub.status.idle": "2021-12-15T09:47:26.844727Z",
     "shell.execute_reply": "2021-12-15T09:47:26.845529Z"
    }
   },
   "outputs": [],
   "source": [
    "sim.dust.v.frag.update()"
   ]
  },
  {
   "cell_type": "markdown",
   "metadata": {},
   "source": [
    "The fragmentation velocities should now show our desired behavior."
   ]
  },
  {
   "cell_type": "code",
   "execution_count": 29,
   "metadata": {
    "execution": {
     "iopub.execute_input": "2021-12-15T09:47:26.862748Z",
     "iopub.status.busy": "2021-12-15T09:47:26.861581Z",
     "iopub.status.idle": "2021-12-15T09:47:27.156037Z",
     "shell.execute_reply": "2021-12-15T09:47:27.156955Z"
    }
   },
   "outputs": [
    {
     "data": {
      "image/png": "[encoded data removed]",
      "text/plain": [
       "<Figure size 900x600 with 1 Axes>"
      ]
     },
     "metadata": {
      "needs_background": "light"
     },
     "output_type": "display_data"
    }
   ],
   "source": [
    "fig = plt.figure(dpi=150)\n",
    "ax = fig.add_subplot(111)\n",
    "ax.semilogx(sim.grid.r/c.au, sim.dust.v.frag)\n",
    "ax.set_xlabel(\"Distance from star [AU]\")\n",
    "ax.set_ylabel(\"Fragmentation velocity [cm/s]\")\n",
    "fig.tight_layout()\n",
    "plt.show()"
   ]
  },
  {
   "cell_type": "markdown",
   "metadata": {},
   "source": [
    "**Note:** If you customized a quantity on which other quantities depend on, you also have to update these quantities. In our case this would be the sticking/fragmentation probabilites. So it is always better to update the whole simulation frame."
   ]
  },
  {
   "cell_type": "code",
   "execution_count": 30,
   "metadata": {
    "execution": {
     "iopub.execute_input": "2021-12-15T09:47:27.163904Z",
     "iopub.status.busy": "2021-12-15T09:47:27.162789Z",
     "iopub.status.idle": "2021-12-15T09:47:27.207331Z",
     "shell.execute_reply": "2021-12-15T09:47:27.206402Z"
    }
   },
   "outputs": [],
   "source": [
    "sim.update()"
   ]
  },
  {
   "cell_type": "markdown",
   "metadata": {},
   "source": [
    "## Adding Custom Fields\n",
    "\n",
    "We can not only modify existing fields, we can also create our own fields.\n",
    "\n",
    "In this example we want to add another field `rsnow` to `Simulation.grid`, that gives us the location of the so called snowline, i.e., the location in the disk where water ice starts to sublime.\n",
    "\n",
    "First, we add the field and initialize it with zero."
   ]
  },
  {
   "cell_type": "code",
   "execution_count": 31,
   "metadata": {
    "execution": {
     "iopub.execute_input": "2021-12-15T09:47:27.213459Z",
     "iopub.status.busy": "2021-12-15T09:47:27.212318Z",
     "iopub.status.idle": "2021-12-15T09:47:27.214704Z",
     "shell.execute_reply": "2021-12-15T09:47:27.215613Z"
    }
   },
   "outputs": [],
   "source": [
    "sim.grid.addfield(\"rsnow\", 0., description=\"Snowline location [cm]\")"
   ]
  },
  {
   "cell_type": "markdown",
   "metadata": {},
   "source": [
    "The grid group has now a new member."
   ]
  },
  {
   "cell_type": "code",
   "execution_count": 32,
   "metadata": {
    "execution": {
     "iopub.execute_input": "2021-12-15T09:47:27.221974Z",
     "iopub.status.busy": "2021-12-15T09:47:27.220859Z",
     "iopub.status.idle": "2021-12-15T09:47:27.224835Z",
     "shell.execute_reply": "2021-12-15T09:47:27.225755Z"
    }
   },
   "outputs": [
    {
     "data": {
      "text/plain": [
       "Group (Grid quantities)\n",
       "-----------------------\n",
       "    A            : Field (Radial grid annulus area [cm²]), \u001b[95mconstant\u001b[0m\n",
       "    m            : Field (Mass grid [g]), \u001b[95mconstant\u001b[0m\n",
       "    Nm           : Field (# of mass bins), \u001b[95mconstant\u001b[0m\n",
       "    Nr           : Field (# of radial grid cells), \u001b[95mconstant\u001b[0m\n",
       "    OmegaK       : Field (Keplerian frequency [1/s])\n",
       "    r            : Field (Radial grid cell centers [cm]), \u001b[95mconstant\u001b[0m\n",
       "    ri           : Field (Radial grid cell interfaces [cm]), \u001b[95mconstant\u001b[0m\n",
       "    rsnow        : Field (Snowline location [cm])\n",
       "  -----"
      ]
     },
     "execution_count": 32,
     "metadata": {},
     "output_type": "execute_result"
    }
   ],
   "source": [
    "sim.grid"
   ]
  },
  {
   "cell_type": "markdown",
   "metadata": {},
   "source": [
    "As a next step we have to write a function that returns us the location of the snowline. Here we simply use the first grid cell where the temperature is smaller than $150\\,\\mathrm{K}$ and return the value of the inner interface of that grid cell."
   ]
  },
  {
   "cell_type": "code",
   "execution_count": 33,
   "metadata": {
    "execution": {
     "iopub.execute_input": "2021-12-15T09:47:27.232394Z",
     "iopub.status.busy": "2021-12-15T09:47:27.231289Z",
     "iopub.status.idle": "2021-12-15T09:47:27.234482Z",
     "shell.execute_reply": "2021-12-15T09:47:27.233452Z"
    }
   },
   "outputs": [],
   "source": [
    "def rsnow(sim):\n",
    "    isnow = np.argmax(sim.gas.T<150.)\n",
    "    return sim.grid.ri[isnow]"
   ]
  },
  {
   "cell_type": "markdown",
   "metadata": {},
   "source": [
    "We assign this function to the updater of our snowline field."
   ]
  },
  {
   "cell_type": "code",
   "execution_count": 34,
   "metadata": {
    "execution": {
     "iopub.execute_input": "2021-12-15T09:47:27.240884Z",
     "iopub.status.busy": "2021-12-15T09:47:27.239873Z",
     "iopub.status.idle": "2021-12-15T09:47:27.243268Z",
     "shell.execute_reply": "2021-12-15T09:47:27.242309Z"
    }
   },
   "outputs": [],
   "source": [
    "sim.grid.rsnow.updater.updater = rsnow"
   ]
  },
  {
   "cell_type": "markdown",
   "metadata": {},
   "source": [
    "And update the field."
   ]
  },
  {
   "cell_type": "code",
   "execution_count": 35,
   "metadata": {
    "execution": {
     "iopub.execute_input": "2021-12-15T09:47:27.250109Z",
     "iopub.status.busy": "2021-12-15T09:47:27.249141Z",
     "iopub.status.idle": "2021-12-15T09:47:27.252163Z",
     "shell.execute_reply": "2021-12-15T09:47:27.253072Z"
    }
   },
   "outputs": [],
   "source": [
    "sim.grid.rsnow.update()"
   ]
  },
  {
   "cell_type": "code",
   "execution_count": 36,
   "metadata": {
    "execution": {
     "iopub.execute_input": "2021-12-15T09:47:27.261065Z",
     "iopub.status.busy": "2021-12-15T09:47:27.259943Z",
     "iopub.status.idle": "2021-12-15T09:47:27.264175Z",
     "shell.execute_reply": "2021-12-15T09:47:27.265090Z"
    }
   },
   "outputs": [
    {
     "name": "stdout",
     "output_type": "stream",
     "text": [
      "The snowline is located at 3.05 AU.\n"
     ]
    }
   ],
   "source": [
    "print(\"The snowline is located at {:4.2f} AU.\".format(sim.grid.rsnow/c.au))"
   ]
  },
  {
   "cell_type": "markdown",
   "metadata": {},
   "source": [
    "Right now the temperature is constant throughout the simulation, because the stellar parameters do not change. To see an effect in our snowline location, we need to have a changing temperature profile.\n",
    "\n",
    "To achieve this, we let the stellar radius decrease from a value of $3\\,M_\\odot$ to $2\\,M_\\odot$ within the first $10,000\\,\\mathrm{yrs}$. This results in decreasing disk temperature. This is only for demonstration purposes and is not necessarily physical."
   ]
  },
  {
   "cell_type": "code",
   "execution_count": 37,
   "metadata": {
    "execution": {
     "iopub.execute_input": "2021-12-15T09:47:27.274701Z",
     "iopub.status.busy": "2021-12-15T09:47:27.273552Z",
     "iopub.status.idle": "2021-12-15T09:47:27.276617Z",
     "shell.execute_reply": "2021-12-15T09:47:27.277528Z"
    }
   },
   "outputs": [],
   "source": [
    "def Rstar(sim):\n",
    "    dR = -1.*c.R_sun\n",
    "    dt = 1.e4 * c.year\n",
    "    m = dR/dt\n",
    "    R = m*sim.t + 3.*c.R_sun\n",
    "    R = np.maximum(R, c.R_sun)\n",
    "    return R"
   ]
  },
  {
   "cell_type": "markdown",
   "metadata": {},
   "source": [
    "And assign this to the updater of the stellar radius."
   ]
  },
  {
   "cell_type": "code",
   "execution_count": 38,
   "metadata": {
    "execution": {
     "iopub.execute_input": "2021-12-15T09:47:27.285120Z",
     "iopub.status.busy": "2021-12-15T09:47:27.284010Z",
     "iopub.status.idle": "2021-12-15T09:47:27.287116Z",
     "shell.execute_reply": "2021-12-15T09:47:27.288031Z"
    }
   },
   "outputs": [],
   "source": [
    "sim.star.R.updater.updater = Rstar"
   ]
  },
  {
   "cell_type": "markdown",
   "metadata": {},
   "source": [
    "## Modifying the Update Order"
   ]
  },
  {
   "cell_type": "markdown",
   "metadata": {},
   "source": [
    "But we are still not done, yet. We have given `DustPy` instructions how to update the snowline location, but we have not yet told it to actually update it regularily.\n",
    "\n",
    "`DustPy` calls `Simulation.update()`, the updater of the simulation object, once per timestep after the integration step and just before writing the data files. The updater of a group/field is basically a list of groups/fields, whose updater is called in that order.\n",
    "\n",
    "For the main simulation object this is"
   ]
  },
  {
   "cell_type": "code",
   "execution_count": 39,
   "metadata": {
    "execution": {
     "iopub.execute_input": "2021-12-15T09:47:27.296742Z",
     "iopub.status.busy": "2021-12-15T09:47:27.295625Z",
     "iopub.status.idle": "2021-12-15T09:47:27.305720Z",
     "shell.execute_reply": "2021-12-15T09:47:27.306653Z"
    }
   },
   "outputs": [
    {
     "data": {
      "text/plain": [
       "['star', 'grid', 'gas', 'dust']"
      ]
     },
     "execution_count": 39,
     "metadata": {},
     "output_type": "execute_result"
    }
   ],
   "source": [
    "sim.updateorder"
   ]
  },
  {
   "cell_type": "markdown",
   "metadata": {},
   "source": [
    "This means that if you call `Simulation.update()` you basically call `Simulation.star.update()`, `Simulation.grid.update()`, `Simulation.gas.update()`, and `Simulation.dust.update()` in that order.\n",
    "\n",
    "The updaters of the sub-groups and fields look as follows"
   ]
  },
  {
   "cell_type": "code",
   "execution_count": 40,
   "metadata": {
    "execution": {
     "iopub.execute_input": "2021-12-15T09:47:27.322273Z",
     "iopub.status.busy": "2021-12-15T09:47:27.321126Z",
     "iopub.status.idle": "2021-12-15T09:47:27.326632Z",
     "shell.execute_reply": "2021-12-15T09:47:27.325476Z"
    }
   },
   "outputs": [
    {
     "data": {
      "text/plain": [
       "['M', 'R', 'T', 'L']"
      ]
     },
     "execution_count": 40,
     "metadata": {},
     "output_type": "execute_result"
    }
   ],
   "source": [
    "sim.star.updateorder"
   ]
  },
  {
   "cell_type": "code",
   "execution_count": 41,
   "metadata": {
    "execution": {
     "iopub.execute_input": "2021-12-15T09:47:27.334142Z",
     "iopub.status.busy": "2021-12-15T09:47:27.332992Z",
     "iopub.status.idle": "2021-12-15T09:47:27.338000Z",
     "shell.execute_reply": "2021-12-15T09:47:27.337020Z"
    }
   },
   "outputs": [
    {
     "data": {
      "text/plain": [
       "['OmegaK']"
      ]
     },
     "execution_count": 41,
     "metadata": {},
     "output_type": "execute_result"
    }
   ],
   "source": [
    "sim.grid.updateorder"
   ]
  },
  {
   "cell_type": "code",
   "execution_count": 42,
   "metadata": {
    "execution": {
     "iopub.execute_input": "2021-12-15T09:47:27.346500Z",
     "iopub.status.busy": "2021-12-15T09:47:27.345352Z",
     "iopub.status.idle": "2021-12-15T09:47:27.350572Z",
     "shell.execute_reply": "2021-12-15T09:47:27.349439Z"
    }
   },
   "outputs": [
    {
     "data": {
      "text/plain": [
       "['gamma',\n",
       " 'mu',\n",
       " 'T',\n",
       " 'alpha',\n",
       " 'cs',\n",
       " 'Hp',\n",
       " 'nu',\n",
       " 'rho',\n",
       " 'n',\n",
       " 'mfp',\n",
       " 'P',\n",
       " 'eta',\n",
       " 'S']"
      ]
     },
     "execution_count": 42,
     "metadata": {},
     "output_type": "execute_result"
    }
   ],
   "source": [
    "sim.gas.updateorder"
   ]
  },
  {
   "cell_type": "code",
   "execution_count": 43,
   "metadata": {
    "execution": {
     "iopub.execute_input": "2021-12-15T09:47:27.358815Z",
     "iopub.status.busy": "2021-12-15T09:47:27.357748Z",
     "iopub.status.idle": "2021-12-15T09:47:27.362942Z",
     "shell.execute_reply": "2021-12-15T09:47:27.362062Z"
    }
   },
   "outputs": [
    {
     "data": {
      "text/plain": [
       "['ext', 'tot']"
      ]
     },
     "execution_count": 43,
     "metadata": {},
     "output_type": "execute_result"
    }
   ],
   "source": [
    "sim.gas.S.updateorder"
   ]
  },
  {
   "cell_type": "code",
   "execution_count": 44,
   "metadata": {
    "execution": {
     "iopub.execute_input": "2021-12-15T09:47:27.371310Z",
     "iopub.status.busy": "2021-12-15T09:47:27.370186Z",
     "iopub.status.idle": "2021-12-15T09:47:27.375523Z",
     "shell.execute_reply": "2021-12-15T09:47:27.374397Z"
    }
   },
   "outputs": [
    {
     "data": {
      "text/plain": [
       "['visc', 'rad']"
      ]
     },
     "execution_count": 44,
     "metadata": {},
     "output_type": "execute_result"
    }
   ],
   "source": [
    "sim.gas.v.updateorder"
   ]
  },
  {
   "cell_type": "code",
   "execution_count": 45,
   "metadata": {
    "execution": {
     "iopub.execute_input": "2021-12-15T09:47:27.384336Z",
     "iopub.status.busy": "2021-12-15T09:47:27.383210Z",
     "iopub.status.idle": "2021-12-15T09:47:27.388420Z",
     "shell.execute_reply": "2021-12-15T09:47:27.387387Z"
    }
   },
   "outputs": [
    {
     "data": {
      "text/plain": [
       "['delta',\n",
       " 'rhos',\n",
       " 'fill',\n",
       " 'a',\n",
       " 'St',\n",
       " 'H',\n",
       " 'rho',\n",
       " 'backreaction',\n",
       " 'v',\n",
       " 'D',\n",
       " 'eps',\n",
       " 'kernel',\n",
       " 'p',\n",
       " 'S']"
      ]
     },
     "execution_count": 45,
     "metadata": {},
     "output_type": "execute_result"
    }
   ],
   "source": [
    "sim.dust.updateorder"
   ]
  },
  {
   "cell_type": "code",
   "execution_count": 46,
   "metadata": {
    "execution": {
     "iopub.execute_input": "2021-12-15T09:47:27.396496Z",
     "iopub.status.busy": "2021-12-15T09:47:27.395379Z",
     "iopub.status.idle": "2021-12-15T09:47:27.399683Z",
     "shell.execute_reply": "2021-12-15T09:47:27.400607Z"
    }
   },
   "outputs": [
    {
     "data": {
      "text/plain": [
       "['A', 'B']"
      ]
     },
     "execution_count": 46,
     "metadata": {},
     "output_type": "execute_result"
    }
   ],
   "source": [
    "sim.dust.backreaction.updateorder"
   ]
  },
  {
   "cell_type": "code",
   "execution_count": 47,
   "metadata": {
    "execution": {
     "iopub.execute_input": "2021-12-15T09:47:27.408918Z",
     "iopub.status.busy": "2021-12-15T09:47:27.407897Z",
     "iopub.status.idle": "2021-12-15T09:47:27.412203Z",
     "shell.execute_reply": "2021-12-15T09:47:27.413039Z"
    }
   },
   "outputs": [
    {
     "data": {
      "text/plain": [
       "['rad', 'turb', 'vert']"
      ]
     },
     "execution_count": 47,
     "metadata": {},
     "output_type": "execute_result"
    }
   ],
   "source": [
    "sim.dust.delta.updateorder"
   ]
  },
  {
   "cell_type": "code",
   "execution_count": 48,
   "metadata": {
    "execution": {
     "iopub.execute_input": "2021-12-15T09:47:27.421601Z",
     "iopub.status.busy": "2021-12-15T09:47:27.420476Z",
     "iopub.status.idle": "2021-12-15T09:47:27.425764Z",
     "shell.execute_reply": "2021-12-15T09:47:27.424796Z"
    }
   },
   "outputs": [
    {
     "data": {
      "text/plain": [
       "['adv', 'diff', 'tot']"
      ]
     },
     "execution_count": 48,
     "metadata": {},
     "output_type": "execute_result"
    }
   ],
   "source": [
    "sim.dust.Fi.updateorder"
   ]
  },
  {
   "cell_type": "code",
   "execution_count": 49,
   "metadata": {
    "execution": {
     "iopub.execute_input": "2021-12-15T09:47:27.434281Z",
     "iopub.status.busy": "2021-12-15T09:47:27.433140Z",
     "iopub.status.idle": "2021-12-15T09:47:27.438429Z",
     "shell.execute_reply": "2021-12-15T09:47:27.437455Z"
    }
   },
   "outputs": [
    {
     "data": {
      "text/plain": [
       "['frag', 'stick']"
      ]
     },
     "execution_count": 49,
     "metadata": {},
     "output_type": "execute_result"
    }
   ],
   "source": [
    "sim.dust.p.updateorder"
   ]
  },
  {
   "cell_type": "code",
   "execution_count": 50,
   "metadata": {
    "execution": {
     "iopub.execute_input": "2021-12-15T09:47:27.446844Z",
     "iopub.status.busy": "2021-12-15T09:47:27.445704Z",
     "iopub.status.idle": "2021-12-15T09:47:27.450992Z",
     "shell.execute_reply": "2021-12-15T09:47:27.450028Z"
    }
   },
   "outputs": [
    {
     "data": {
      "text/plain": [
       "['ext', 'tot']"
      ]
     },
     "execution_count": 50,
     "metadata": {},
     "output_type": "execute_result"
    }
   ],
   "source": [
    "sim.dust.S.updateorder"
   ]
  },
  {
   "cell_type": "code",
   "execution_count": 51,
   "metadata": {
    "execution": {
     "iopub.execute_input": "2021-12-15T09:47:27.459313Z",
     "iopub.status.busy": "2021-12-15T09:47:27.458300Z",
     "iopub.status.idle": "2021-12-15T09:47:27.463742Z",
     "shell.execute_reply": "2021-12-15T09:47:27.462882Z"
    }
   },
   "outputs": [
    {
     "data": {
      "text/plain": [
       "['frag', 'driftmax', 'rel']"
      ]
     },
     "execution_count": 51,
     "metadata": {},
     "output_type": "execute_result"
    }
   ],
   "source": [
    "sim.dust.v.updateorder"
   ]
  },
  {
   "cell_type": "code",
   "execution_count": 52,
   "metadata": {
    "execution": {
     "iopub.execute_input": "2021-12-15T09:47:27.472286Z",
     "iopub.status.busy": "2021-12-15T09:47:27.471268Z",
     "iopub.status.idle": "2021-12-15T09:47:27.475839Z",
     "shell.execute_reply": "2021-12-15T09:47:27.476712Z"
    }
   },
   "outputs": [
    {
     "data": {
      "text/plain": [
       "['azi', 'brown', 'rad', 'turb', 'vert', 'tot']"
      ]
     },
     "execution_count": 52,
     "metadata": {},
     "output_type": "execute_result"
    }
   ],
   "source": [
    "sim.dust.v.rel.updateorder"
   ]
  },
  {
   "cell_type": "markdown",
   "metadata": {},
   "source": [
    "**Note:** The gas updater does not contain the updaters of `Simulation.gas.v` and `Simulation.gas.Fi` and the updater of the gas sources does not contain the updater of `Simulation.gas.S.hyd`. These are quantities that are calculated in the finalization step of the integrator, since they are derived from the result of the implicit gas integration.\n",
    "\n",
    "The same is true for `Simulation.dust.v.rad`, `Simulation.dust.Fi`, `Simulation.dust.S.coag`, and `Simulation.dust.S.hyd` in the dust updater, which are also calculated from the implicit integration in the finalization step of the integrator"
   ]
  },
  {
   "cell_type": "markdown",
   "metadata": {},
   "source": [
    "As you can see, the grid updater is only updating the Keplerian frequency, but not our snowline location. So we can simply adding it to the list."
   ]
  },
  {
   "cell_type": "code",
   "execution_count": 53,
   "metadata": {
    "execution": {
     "iopub.execute_input": "2021-12-15T09:47:27.484800Z",
     "iopub.status.busy": "2021-12-15T09:47:27.483668Z",
     "iopub.status.idle": "2021-12-15T09:47:27.487933Z",
     "shell.execute_reply": "2021-12-15T09:47:27.486954Z"
    }
   },
   "outputs": [],
   "source": [
    "sim.grid.updater = [\"OmegaK\", \"rsnow\"]"
   ]
  },
  {
   "cell_type": "markdown",
   "metadata": {},
   "source": [
    "If you assign lists to updaters, their systoles and diastoles will always be overwritten with `None`."
   ]
  },
  {
   "cell_type": "code",
   "execution_count": 54,
   "metadata": {
    "execution": {
     "iopub.execute_input": "2021-12-15T09:47:27.496417Z",
     "iopub.status.busy": "2021-12-15T09:47:27.495302Z",
     "iopub.status.idle": "2021-12-15T09:47:27.499586Z",
     "shell.execute_reply": "2021-12-15T09:47:27.500510Z"
    }
   },
   "outputs": [
    {
     "data": {
      "text/plain": [
       "['OmegaK', 'rsnow']"
      ]
     },
     "execution_count": 54,
     "metadata": {},
     "output_type": "execute_result"
    }
   ],
   "source": [
    "sim.grid.updateorder"
   ]
  },
  {
   "cell_type": "markdown",
   "metadata": {},
   "source": [
    "## Systoles and Diastoles\n",
    "\n",
    "However, the previous solution has a conceptional problem. As you can see from the update order previously the grid is updated before the gas. The snowline location, however, needs the gas temperature and, therefore, has to be updated after the gas. But we also cannot update the grid as a whole after the gas, because the gas updaters need the Keplerian frequency. We need another solution.\n",
    "\n",
    "But first, we revert the grid updater."
   ]
  },
  {
   "cell_type": "code",
   "execution_count": 55,
   "metadata": {
    "execution": {
     "iopub.execute_input": "2021-12-15T09:47:27.508083Z",
     "iopub.status.busy": "2021-12-15T09:47:27.507062Z",
     "iopub.status.idle": "2021-12-15T09:47:27.511210Z",
     "shell.execute_reply": "2021-12-15T09:47:27.510328Z"
    }
   },
   "outputs": [],
   "source": [
    "sim.grid.updater = [\"OmegaK\"]"
   ]
  },
  {
   "cell_type": "markdown",
   "metadata": {},
   "source": [
    "Every updater has a systole and a diastole. That is a function that is called before respectively after the actual updater. Since no other quantity depends on our snowline location, we can simply update it at the end and put it in the diastole of the main updater. Or we could assign it to the diastole of the gas temperature updater, since it only requires the updated gas temperature.\n",
    "\n",
    "We therefore write a diastole function, that is updating the snowline location separately."
   ]
  },
  {
   "cell_type": "code",
   "execution_count": 56,
   "metadata": {
    "execution": {
     "iopub.execute_input": "2021-12-15T09:47:27.518976Z",
     "iopub.status.busy": "2021-12-15T09:47:27.517828Z",
     "iopub.status.idle": "2021-12-15T09:47:27.521135Z",
     "shell.execute_reply": "2021-12-15T09:47:27.522027Z"
    }
   },
   "outputs": [],
   "source": [
    "def diastole(sim):\n",
    "    sim.grid.rsnow.update()"
   ]
  },
  {
   "cell_type": "markdown",
   "metadata": {},
   "source": [
    "And assign this function to the diastole of the gas temperature updater."
   ]
  },
  {
   "cell_type": "code",
   "execution_count": 57,
   "metadata": {
    "execution": {
     "iopub.execute_input": "2021-12-15T09:47:27.529719Z",
     "iopub.status.busy": "2021-12-15T09:47:27.528611Z",
     "iopub.status.idle": "2021-12-15T09:47:27.531557Z",
     "shell.execute_reply": "2021-12-15T09:47:27.532458Z"
    }
   },
   "outputs": [],
   "source": [
    "sim.gas.T.updater.diastole = diastole"
   ]
  },
  {
   "cell_type": "markdown",
   "metadata": {},
   "source": [
    "Now every time `Simulation.gas.T.update()` is called, `Simulation.grid.rsnow.update()` will be called at the end of it."
   ]
  },
  {
   "cell_type": "markdown",
   "metadata": {},
   "source": [
    "## Customizing the Snapshots\n",
    "\n",
    "As already explained in a previous chapter, the snapshots can be customized by simply setting `Simulation.t.snapshots`. In this example we only want to run the simulation for $10,000\\,\\mathrm{yrs}$."
   ]
  },
  {
   "cell_type": "code",
   "execution_count": 58,
   "metadata": {
    "execution": {
     "iopub.execute_input": "2021-12-15T09:47:27.542359Z",
     "iopub.status.busy": "2021-12-15T09:47:27.541221Z",
     "iopub.status.idle": "2021-12-15T09:47:27.544604Z",
     "shell.execute_reply": "2021-12-15T09:47:27.545482Z"
    }
   },
   "outputs": [],
   "source": [
    "sim.t.snapshots = np.logspace(3., 4., num=21, base=10.) * c.year"
   ]
  },
  {
   "cell_type": "markdown",
   "metadata": {},
   "source": [
    "We can now change the data directory to avoid an overwrite error and start the simulation with our modifications."
   ]
  },
  {
   "cell_type": "code",
   "execution_count": 59,
   "metadata": {
    "execution": {
     "iopub.execute_input": "2021-12-15T09:47:27.553181Z",
     "iopub.status.busy": "2021-12-15T09:47:27.552071Z",
     "iopub.status.idle": "2021-12-15T09:47:27.554978Z",
     "shell.execute_reply": "2021-12-15T09:47:27.555882Z"
    }
   },
   "outputs": [],
   "source": [
    "sim.writer.datadir = \"3_data\""
   ]
  },
  {
   "cell_type": "code",
   "execution_count": 60,
   "metadata": {
    "execution": {
     "iopub.execute_input": "2021-12-15T09:47:27.567870Z",
     "iopub.status.busy": "2021-12-15T09:47:27.566755Z",
     "iopub.status.idle": "2021-12-15T09:55:45.484818Z",
     "shell.execute_reply": "2021-12-15T09:55:45.485833Z"
    }
   },
   "outputs": [
    {
     "name": "stdout",
     "output_type": "stream",
     "text": [
      "\n",
      "DustPy v0.5.8\n",
      "\n",
      "Documentation: https://stammler.github.io/dustpy/\n",
      "PyPI:          https://pypi.org/project/dustpy/\n",
      "GitHub:        https://github.com/stammler/dustpy/\n",
      "\u001b[91m\n",
      "Please read README.md on the GitHub repository for\n",
      "information about the Terms of Usage.\u001b[0m\n",
      "\n",
      "\u001b[93mChecking for mass conservation...\n",
      "\u001b[0m\n",
      "\u001b[93m    - Sticking:\u001b[0m\n",
      "\u001b[0m        max. rel. error: \u001b[92m 2.81e-14\u001b[0m\n",
      "        for particle collision\n",
      "            m[114] =  1.93e+04 g    with\n",
      "            m[116] =  3.73e+04 g\u001b[0m\n",
      "\u001b[93m    - Full fragmentation:\u001b[0m\n",
      "\u001b[0m        max. rel. error: \u001b[92m 4.44e-16\u001b[0m\n",
      "        for particle collision\n",
      "            m[47] =  5.18e-06 g    with\n",
      "            m[54] =  5.18e-05 g\u001b[0m\n",
      "\u001b[93m    - Erosion:\u001b[0m\n",
      "\u001b[0m        max. rel. error: \u001b[92m 1.78e-15\u001b[0m\n",
      "        for particle collision\n",
      "            m[110] =  5.18e+03 g    with\n",
      "            m[118] =  7.20e+04 g\n",
      "\u001b[0m\n",
      "Creating data directory '3_data'.\n",
      "Writing file \u001b[94m3_data/data0000.hdf5\u001b[0m\n",
      "Writing dump file \u001b[94m3_data/frame.dmp\u001b[0m\n",
      "Writing file \u001b[94m3_data/data0001.hdf5\u001b[0m\n",
      "Writing dump file \u001b[94m3_data/frame.dmp\u001b[0m\n",
      "Writing file \u001b[94m3_data/data0002.hdf5\u001b[0m\n",
      "Writing dump file \u001b[94m3_data/frame.dmp\u001b[0m\n",
      "Writing file \u001b[94m3_data/data0003.hdf5\u001b[0m\n",
      "Writing dump file \u001b[94m3_data/frame.dmp\u001b[0m\n",
      "Writing file \u001b[94m3_data/data0004.hdf5\u001b[0m\n",
      "Writing dump file \u001b[94m3_data/frame.dmp\u001b[0m\n",
      "Writing file \u001b[94m3_data/data0005.hdf5\u001b[0m\n",
      "Writing dump file \u001b[94m3_data/frame.dmp\u001b[0m\n",
      "Writing file \u001b[94m3_data/data0006.hdf5\u001b[0m\n",
      "Writing dump file \u001b[94m3_data/frame.dmp\u001b[0m\n",
      "Writing file \u001b[94m3_data/data0007.hdf5\u001b[0m\n",
      "Writing dump file \u001b[94m3_data/frame.dmp\u001b[0m\n",
      "Writing file \u001b[94m3_data/data0008.hdf5\u001b[0m\n",
      "Writing dump file \u001b[94m3_data/frame.dmp\u001b[0m\n",
      "Writing file \u001b[94m3_data/data0009.hdf5\u001b[0m\n",
      "Writing dump file \u001b[94m3_data/frame.dmp\u001b[0m\n",
      "Writing file \u001b[94m3_data/data0010.hdf5\u001b[0m\n",
      "Writing dump file \u001b[94m3_data/frame.dmp\u001b[0m\n",
      "Writing file \u001b[94m3_data/data0011.hdf5\u001b[0m\n",
      "Writing dump file \u001b[94m3_data/frame.dmp\u001b[0m\n",
      "Writing file \u001b[94m3_data/data0012.hdf5\u001b[0m\n",
      "Writing dump file \u001b[94m3_data/frame.dmp\u001b[0m\n",
      "Writing file \u001b[94m3_data/data0013.hdf5\u001b[0m\n",
      "Writing dump file \u001b[94m3_data/frame.dmp\u001b[0m\n",
      "Writing file \u001b[94m3_data/data0014.hdf5\u001b[0m\n",
      "Writing dump file \u001b[94m3_data/frame.dmp\u001b[0m\n",
      "Writing file \u001b[94m3_data/data0015.hdf5\u001b[0m\n",
      "Writing dump file \u001b[94m3_data/frame.dmp\u001b[0m\n",
      "Writing file \u001b[94m3_data/data0016.hdf5\u001b[0m\n",
      "Writing dump file \u001b[94m3_data/frame.dmp\u001b[0m\n",
      "Writing file \u001b[94m3_data/data0017.hdf5\u001b[0m\n",
      "Writing dump file \u001b[94m3_data/frame.dmp\u001b[0m\n",
      "Writing file \u001b[94m3_data/data0018.hdf5\u001b[0m\n",
      "Writing dump file \u001b[94m3_data/frame.dmp\u001b[0m\n",
      "Writing file \u001b[94m3_data/data0019.hdf5\u001b[0m\n",
      "Writing dump file \u001b[94m3_data/frame.dmp\u001b[0m\n",
      "Writing file \u001b[94m3_data/data0020.hdf5\u001b[0m\n",
      "Writing dump file \u001b[94m3_data/frame.dmp\u001b[0m\n",
      "Writing file \u001b[94m3_data/data0021.hdf5\u001b[0m\n",
      "Writing dump file \u001b[94m3_data/frame.dmp\u001b[0m\n",
      "Execution time: \u001b[94m0:08:17\u001b[0m\n"
     ]
    }
   ],
   "source": [
    "sim.run()"
   ]
  },
  {
   "cell_type": "markdown",
   "metadata": {},
   "source": [
    "We can now have a look at the result of our modifications."
   ]
  },
  {
   "cell_type": "code",
   "execution_count": 61,
   "metadata": {
    "execution": {
     "iopub.execute_input": "2021-12-15T09:55:45.494961Z",
     "iopub.status.busy": "2021-12-15T09:55:45.493734Z",
     "iopub.status.idle": "2021-12-15T09:55:45.496199Z",
     "shell.execute_reply": "2021-12-15T09:55:45.497122Z"
    }
   },
   "outputs": [],
   "source": [
    "from dustpy import plot"
   ]
  },
  {
   "cell_type": "code",
   "execution_count": 62,
   "metadata": {
    "execution": {
     "iopub.execute_input": "2021-12-15T09:55:45.524501Z",
     "iopub.status.busy": "2021-12-15T09:55:45.518735Z",
     "iopub.status.idle": "2021-12-15T09:55:46.711375Z",
     "shell.execute_reply": "2021-12-15T09:55:46.712322Z"
    }
   },
   "outputs": [
    {
     "data": {
      "image/png": "[encoded data removed]",
      "text/plain": [
       "<Figure size 1575x648.949 with 7 Axes>"
      ]
     },
     "metadata": {
      "needs_background": "light"
     },
     "output_type": "display_data"
    }
   ],
   "source": [
    "plot.panel(sim)"
   ]
  },
  {
   "cell_type": "markdown",
   "metadata": {},
   "source": [
    "The change in fragmentation velocity has an obvious effect on the particles sizes.\n",
    "\n",
    "To check the time evolution of the snowline, we have to read the data. The gray lines are the positions of the radial grid cell interfaces and snapshots, which explains the discrete behavior of the snowline location."
   ]
  },
  {
   "cell_type": "code",
   "execution_count": 63,
   "metadata": {
    "execution": {
     "iopub.execute_input": "2021-12-15T09:55:46.722058Z",
     "iopub.status.busy": "2021-12-15T09:55:46.720846Z",
     "iopub.status.idle": "2021-12-15T09:55:46.767857Z",
     "shell.execute_reply": "2021-12-15T09:55:46.766804Z"
    }
   },
   "outputs": [],
   "source": [
    "t = sim.writer.read.sequence(\"t\") / c.year\n",
    "ri = sim.writer.read.sequence(\"grid.ri\") / c.au\n",
    "rsnow = sim.writer.read.sequence(\"grid.rsnow\") / c.au"
   ]
  },
  {
   "cell_type": "code",
   "execution_count": 64,
   "metadata": {
    "execution": {
     "iopub.execute_input": "2021-12-15T09:55:46.871402Z",
     "iopub.status.busy": "2021-12-15T09:55:46.806777Z",
     "iopub.status.idle": "2021-12-15T09:55:47.147635Z",
     "shell.execute_reply": "2021-12-15T09:55:47.148565Z"
    }
   },
   "outputs": [
    {
     "data": {
      "image/png": "[encoded data removed]",
      "text/plain": [
       "<Figure size 900x600 with 1 Axes>"
      ]
     },
     "metadata": {
      "needs_background": "light"
     },
     "output_type": "display_data"
    }
   ],
   "source": [
    "fig = plt.figure(dpi=150)\n",
    "ax = fig.add_subplot(111)\n",
    "ax.semilogx(t, rsnow)\n",
    "ax.hlines(ri, 1.e3, 1e4, lw=1, color=\"gray\", alpha=0.25)\n",
    "ax.vlines(t, 2.5, 5.5, lw=1, color=\"gray\", alpha=0.25)\n",
    "ax.set_xlim(1.e3, 1.e4)\n",
    "ax.set_ylim(2.5, 5.5)\n",
    "ax.set_xlabel(\"Time [yr]\")\n",
    "ax.set_ylabel(\"Snowline location [AU]\")\n",
    "fig.tight_layout()\n",
    "plt.show()"
   ]
  }
 ],
 "metadata": {
  "kernelspec": {
   "display_name": "Python 3 (ipykernel)",
   "language": "python",
   "name": "python3"
  },
  "language_info": {
   "codemirror_mode": {
    "name": "ipython",
    "version": 3
   },
   "file_extension": ".py",
   "mimetype": "text/x-python",
   "name": "python",
   "nbconvert_exporter": "python",
   "pygments_lexer": "ipython3",
   "version": "3.8.12"
  }
 },
 "nbformat": 4,
 "nbformat_minor": 4
}
