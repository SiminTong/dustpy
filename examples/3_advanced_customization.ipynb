{
 "cells": [
  {
   "cell_type": "markdown",
   "metadata": {},
   "source": [
    "# Advanced Customization\n",
    "\n",
    "The core principle of `DustPy` is that you can change anything easily. Not only the initial conditions as shown in the previous section, but also the physics behind the simulation."
   ]
  },
  {
   "cell_type": "code",
   "execution_count": 1,
   "metadata": {},
   "outputs": [],
   "source": [
    "from dustpy import Simulation"
   ]
  },
  {
   "cell_type": "code",
   "execution_count": 2,
   "metadata": {},
   "outputs": [],
   "source": [
    "sim = Simulation()"
   ]
  },
  {
   "cell_type": "markdown",
   "metadata": {},
   "source": [
    "## Customizing the Grids\n",
    "\n",
    "By default the radial and the mass grid will be created when calling `Simulation.initialize()`. But there can be situations where you need to now the grid sizes before initializing the Simulation object. For example if you want to create custom fields and you need to initialize them with the correct shape.\n",
    "\n",
    "In that case you can call `Simulation.makegrids()` to only create the grids without initializing the simulation objects. In fact, `Simulation.makegrids()` is by default called by `Simulation.initialize()`."
   ]
  },
  {
   "cell_type": "code",
   "execution_count": 3,
   "metadata": {},
   "outputs": [
    {
     "data": {
      "text/plain": [
       "Group (Grid quantities)\n",
       "-----------------------\n",
       "    m            : NoneType\n",
       "    Nm           : NoneType\n",
       "    Nr           : NoneType\n",
       "    OmegaK       : NoneType\n",
       "    r            : NoneType\n",
       "    ri           : NoneType\n",
       "  -----"
      ]
     },
     "execution_count": 3,
     "metadata": {},
     "output_type": "execute_result"
    }
   ],
   "source": [
    "sim.grid"
   ]
  },
  {
   "cell_type": "code",
   "execution_count": 4,
   "metadata": {},
   "outputs": [],
   "source": [
    "sim.makegrids()"
   ]
  },
  {
   "cell_type": "code",
   "execution_count": 5,
   "metadata": {},
   "outputs": [
    {
     "data": {
      "text/plain": [
       "Group (Grid quantities)\n",
       "-----------------------\n",
       "    m            : Field (Mass grid [g]), \u001b[95mconstant\u001b[0m\n",
       "    Nm           : Field (# of mass bins), \u001b[95mconstant\u001b[0m\n",
       "    Nr           : Field (# of radial grid cells), \u001b[95mconstant\u001b[0m\n",
       "    r            : Field (Radial grid cell centers [cm]), \u001b[95mconstant\u001b[0m\n",
       "    ri           : Field (Radial grid cell interfaces [cm]), \u001b[95mconstant\u001b[0m\n",
       "  -----\n",
       "    OmegaK       : NoneType\n",
       "  -----"
      ]
     },
     "execution_count": 5,
     "metadata": {},
     "output_type": "execute_result"
    }
   ],
   "source": [
    "sim.grid"
   ]
  },
  {
   "cell_type": "markdown",
   "metadata": {},
   "source": [
    "Note that the Keplerian frequency has not been initialized at this point."
   ]
  },
  {
   "cell_type": "markdown",
   "metadata": {},
   "source": [
    "### The Radial Grid\n",
    "\n",
    "By default the radial grid is a regular logarithmic grid. Meaning, the ratio of adjacent grid cells is constant."
   ]
  },
  {
   "cell_type": "code",
   "execution_count": 6,
   "metadata": {},
   "outputs": [
    {
     "data": {
      "text/plain": [
       "[1.07151931 1.07151931 1.07151931 1.07151931 1.07151931 1.07151931\n",
       " 1.07151931 1.07151931 1.07151931 1.07151931 1.07151931 1.07151931\n",
       " 1.07151931 1.07151931 1.07151931 1.07151931 1.07151931 1.07151931\n",
       " 1.07151931 1.07151931 1.07151931 1.07151931 1.07151931 1.07151931\n",
       " 1.07151931 1.07151931 1.07151931 1.07151931 1.07151931 1.07151931\n",
       " 1.07151931 1.07151931 1.07151931 1.07151931 1.07151931 1.07151931\n",
       " 1.07151931 1.07151931 1.07151931 1.07151931 1.07151931 1.07151931\n",
       " 1.07151931 1.07151931 1.07151931 1.07151931 1.07151931 1.07151931\n",
       " 1.07151931 1.07151931 1.07151931 1.07151931 1.07151931 1.07151931\n",
       " 1.07151931 1.07151931 1.07151931 1.07151931 1.07151931 1.07151931\n",
       " 1.07151931 1.07151931 1.07151931 1.07151931 1.07151931 1.07151931\n",
       " 1.07151931 1.07151931 1.07151931 1.07151931 1.07151931 1.07151931\n",
       " 1.07151931 1.07151931 1.07151931 1.07151931 1.07151931 1.07151931\n",
       " 1.07151931 1.07151931 1.07151931 1.07151931 1.07151931 1.07151931\n",
       " 1.07151931 1.07151931 1.07151931 1.07151931 1.07151931 1.07151931\n",
       " 1.07151931 1.07151931 1.07151931 1.07151931 1.07151931 1.07151931\n",
       " 1.07151931 1.07151931 1.07151931]"
      ]
     },
     "execution_count": 6,
     "metadata": {},
     "output_type": "execute_result"
    }
   ],
   "source": [
    "sim.grid.r[1:]/sim.grid.r[:-1]"
   ]
  },
  {
   "cell_type": "markdown",
   "metadata": {},
   "source": [
    "As explained in the previous chapter location of the grid cell interfaces and the number of grid cells can be controlled via `Simulation.ini.grid.rmin`, `Simulation.ini.grid.rmax`, and `Simulation.ini.grid.Nr`.  \n",
    "`Simulation.makegrids()` will use these parameters to create the radial grid.\n",
    "\n",
    "But it is also possible to completely customize the grid. To do so you have to set the locations of the radial grid cell interfaces `Simulation.grid.ri` before calling either `Simulation.makegrids()` or `Simulation.initialize()`.\n",
    "\n",
    "In this example we simply want to refine the grid at a given location. We use this helper function, which takes an existing grid `ri` and adds doubles the number of grid cells in a region `num` grid cells on both sides around location `r0`. We also recursively call this function with reduced `num` to even further refine the grid and to have a smooth transition between high and low resolution."
   ]
  },
  {
   "cell_type": "code",
   "execution_count": 7,
   "metadata": {},
   "outputs": [],
   "source": [
    "import numpy as np\n",
    "\n",
    "def refinegrid(ri, r0, num=3):\n",
    "    if num == 0:\n",
    "        return ri\n",
    "    ind = np.argmin(r0 > ri) - 1\n",
    "    indl = ind-num\n",
    "    indr = ind+num+1\n",
    "    ril = ri[:indl]\n",
    "    rir = ri[indr:]\n",
    "    N = (2*num+1)*2\n",
    "    rim = np.empty(N)\n",
    "    for i in range(0, N, 2):\n",
    "        j = ind-num+np.int(i/2)\n",
    "        rim[i] = ri[j]\n",
    "        rim[i+1] = 0.5*(ri[j]+ri[j+1])\n",
    "    ri = np.concatenate((ril, rim, rir))\n",
    "    return refinegrid(ri, r0, num=num-1)"
   ]
  },
  {
   "cell_type": "markdown",
   "metadata": {},
   "source": [
    "We now create a regular logarithmic grid and feed it to our function. We want to refine the grid in a location around $4.5\\,\\mathrm{AU}$."
   ]
  },
  {
   "cell_type": "code",
   "execution_count": 8,
   "metadata": {},
   "outputs": [],
   "source": [
    "import dustpy.constants as c"
   ]
  },
  {
   "cell_type": "code",
   "execution_count": 9,
   "metadata": {},
   "outputs": [],
   "source": [
    "ri = np.logspace(0., 3., num=100, base=10.) * c.au"
   ]
  },
  {
   "cell_type": "code",
   "execution_count": 10,
   "metadata": {},
   "outputs": [],
   "source": [
    "ri = refinegrid(ri, 4.5*c.au, num=3)"
   ]
  },
  {
   "cell_type": "markdown",
   "metadata": {},
   "source": [
    "We can now create a new empty Simulation object, assign the grid cell interfaces and initialize the grids."
   ]
  },
  {
   "cell_type": "code",
   "execution_count": 11,
   "metadata": {},
   "outputs": [],
   "source": [
    "sim = Simulation()"
   ]
  },
  {
   "cell_type": "code",
   "execution_count": 12,
   "metadata": {},
   "outputs": [],
   "source": [
    "sim.grid.ri = ri"
   ]
  },
  {
   "cell_type": "code",
   "execution_count": 13,
   "metadata": {},
   "outputs": [
    {
     "data": {
      "text/plain": [
       "Group (Grid quantities)\n",
       "-----------------------\n",
       "    m            : NoneType\n",
       "    Nm           : NoneType\n",
       "    Nr           : NoneType\n",
       "    OmegaK       : NoneType\n",
       "    r            : NoneType\n",
       "    ri           : ndarray\n",
       "  -----"
      ]
     },
     "execution_count": 13,
     "metadata": {},
     "output_type": "execute_result"
    }
   ],
   "source": [
    "sim.grid"
   ]
  },
  {
   "cell_type": "markdown",
   "metadata": {},
   "source": [
    "Note that it is sufficient to assign a `numpy.ndarray` to `Simulation.grid.ri` and not a `simframe.Field`. We can now make the grids."
   ]
  },
  {
   "cell_type": "code",
   "execution_count": 14,
   "metadata": {},
   "outputs": [],
   "source": [
    "sim.makegrids()"
   ]
  },
  {
   "cell_type": "code",
   "execution_count": 15,
   "metadata": {},
   "outputs": [
    {
     "data": {
      "text/plain": [
       "Group (Grid quantities)\n",
       "-----------------------\n",
       "    m            : Field (Mass grid [g]), \u001b[95mconstant\u001b[0m\n",
       "    Nm           : Field (# of mass bins), \u001b[95mconstant\u001b[0m\n",
       "    Nr           : Field (# of radial grid cells), \u001b[95mconstant\u001b[0m\n",
       "    r            : Field (Radial grid cell centers [cm]), \u001b[95mconstant\u001b[0m\n",
       "    ri           : Field (Radial grid cell interfaces [cm]), \u001b[95mconstant\u001b[0m\n",
       "  -----\n",
       "    OmegaK       : NoneType\n",
       "  -----"
      ]
     },
     "execution_count": 15,
     "metadata": {},
     "output_type": "execute_result"
    }
   ],
   "source": [
    "sim.grid"
   ]
  },
  {
   "cell_type": "markdown",
   "metadata": {},
   "source": [
    "As you can see, `Simulation.grid.ri` was automatically converted to a `simframe.Field` and the other fields were created. The number of radial grid cells is greater than $100$ as we added more grid cells."
   ]
  },
  {
   "cell_type": "code",
   "execution_count": 16,
   "metadata": {},
   "outputs": [
    {
     "data": {
      "text/plain": [
       "114"
      ]
     },
     "execution_count": 16,
     "metadata": {},
     "output_type": "execute_result"
    }
   ],
   "source": [
    "sim.grid.Nr"
   ]
  },
  {
   "cell_type": "markdown",
   "metadata": {},
   "source": [
    "To see that we actually refined the grid at the correct location, we can plot the location of the radial grid cells."
   ]
  },
  {
   "cell_type": "code",
   "execution_count": 17,
   "metadata": {},
   "outputs": [
    {
     "data": {
      "image/png": "[encoded data removed]",
      "text/plain": [
       "<Figure size 432x288 with 1 Axes>"
      ]
     },
     "metadata": {
      "needs_background": "light"
     },
     "output_type": "display_data"
    }
   ],
   "source": [
    "import matplotlib.pyplot as plt\n",
    "\n",
    "plt.semilogy(sim.grid.r/c.au)\n",
    "plt.axhline(4.5, c=\"gray\", lw=1)\n",
    "plt.xlabel(\"# of radial grid cell\")\n",
    "plt.ylabel(\"Location of radial grid cell [AU]\")\n",
    "plt.draw()"
   ]
  },
  {
   "cell_type": "markdown",
   "metadata": {},
   "source": [
    "The radial grid cells have to be exactly in the center between their grid cell interfaces. "
   ]
  },
  {
   "cell_type": "code",
   "execution_count": 18,
   "metadata": {},
   "outputs": [
    {
     "data": {
      "text/plain": [
       "[ True  True  True  True  True  True  True  True  True  True  True  True\n",
       "  True  True  True  True  True  True  True  True  True  True  True  True\n",
       "  True  True  True  True  True  True  True  True  True  True  True  True\n",
       "  True  True  True  True  True  True  True  True  True  True  True  True\n",
       "  True  True  True  True  True  True  True  True  True  True  True  True\n",
       "  True  True  True  True  True  True  True  True  True  True  True  True\n",
       "  True  True  True  True  True  True  True  True  True  True  True  True\n",
       "  True  True  True  True  True  True  True  True  True  True  True  True\n",
       "  True  True  True  True  True  True  True  True  True  True  True  True\n",
       "  True  True  True  True  True  True]"
      ]
     },
     "execution_count": 18,
     "metadata": {},
     "output_type": "execute_result"
    }
   ],
   "source": [
    "sim.grid.r == 0.5 * (sim.grid.ri[1:] + sim.grid.ri[:-1])"
   ]
  },
  {
   "cell_type": "markdown",
   "metadata": {},
   "source": [
    "### The Mass Grid\n",
    "\n",
    "You should **NEVER** set the mass grid manually! The mass grid has to be strictly logarithmic. Only manipulate the mass grid creation by setting `Simulation.ini.grid.mmin`, `Simulation.ini.grid.mmax`, and `Simulation.ini.grid.Nmbpd`.\n",
    "\n",
    "If you for have to create your own non-logarithmic mass grid for some reason, be aware that you have to re-write the coagulation algorithms as well, since they only strictly conserve mass on a logarithmic grid."
   ]
  },
  {
   "cell_type": "markdown",
   "metadata": {},
   "source": [
    "## Customizing the Physics of a Field\n",
    "\n",
    "In this example we want to have a fragmentation velocity that depends on the temperature in the disk. Is the temperature below 150 K, we want to have a fragmentation velocity of 10 m/s, otherwise it shall be 1 m/s. The idea behind this approach is than particles coated in water ice are stickier that pure silicate particles and can widthstand higher collision velocities. See for example [Pinilla et al. (2017)](https://doi.org/10.3847/1538-4357/aa7edb). However, keep in mind that newer experiments suggest that particles covered in water ice do not have a beneficial collision behavior, see [Musiolik & Wurm (2019)](https://doi.org/10.3847/1538-4357/ab0428).\n",
    "\n",
    "First, we initialize our simulation object."
   ]
  },
  {
   "cell_type": "code",
   "execution_count": 19,
   "metadata": {},
   "outputs": [],
   "source": [
    "sim.initialize()"
   ]
  },
  {
   "cell_type": "markdown",
   "metadata": {},
   "source": [
    "The fragmentation velocity has the shape `(Nr,)`, meaning there is one value at every location in the grid."
   ]
  },
  {
   "cell_type": "code",
   "execution_count": 20,
   "metadata": {},
   "outputs": [
    {
     "data": {
      "text/plain": [
       "(114,)"
      ]
     },
     "execution_count": 20,
     "metadata": {},
     "output_type": "execute_result"
    }
   ],
   "source": [
    "sim.dust.v.frag.shape"
   ]
  },
  {
   "cell_type": "markdown",
   "metadata": {},
   "source": [
    "But right now it's constant."
   ]
  },
  {
   "cell_type": "code",
   "execution_count": 21,
   "metadata": {
    "jupyter": {
     "source_hidden": true
    }
   },
   "outputs": [
    {
     "data": {
      "image/png": "[encoded data removed]",
      "text/plain": [
       "<Figure size 432x288 with 1 Axes>"
      ]
     },
     "metadata": {
      "needs_background": "light"
     },
     "output_type": "display_data"
    }
   ],
   "source": [
    "plt.semilogx(sim.grid.r/c.au, sim.dust.v.frag)\n",
    "plt.xlabel(\"Distance from star [AU]\")\n",
    "plt.ylabel(\"Fragmentation velocity [cm/s]\")\n",
    "plt.draw()"
   ]
  },
  {
   "cell_type": "markdown",
   "metadata": {},
   "source": [
    "Now we have to write a function that takes the simulation object as input parameter and returns our desired fragmentation velocities. We can use the fact that the gas temperature has the same shape. Keep in mind that everything has to be in cgs units."
   ]
  },
  {
   "cell_type": "code",
   "execution_count": 22,
   "metadata": {},
   "outputs": [
    {
     "data": {
      "text/plain": [
       "(114,)"
      ]
     },
     "execution_count": 22,
     "metadata": {},
     "output_type": "execute_result"
    }
   ],
   "source": [
    "sim.gas.T.shape"
   ]
  },
  {
   "cell_type": "code",
   "execution_count": 23,
   "metadata": {},
   "outputs": [],
   "source": [
    "def v_frag(sim):\n",
    "    return np.where(sim.gas.T<150., 1000., 100)"
   ]
  },
  {
   "cell_type": "markdown",
   "metadata": {},
   "source": [
    "We can now assign this function to the updater of the dust fragmentation velocities. For details of this process, please have a look at the [Simframe documentation](https://simframe.rtfd.io)."
   ]
  },
  {
   "cell_type": "code",
   "execution_count": 24,
   "metadata": {},
   "outputs": [],
   "source": [
    "sim.dust.v.frag.updater = v_frag"
   ]
  },
  {
   "cell_type": "markdown",
   "metadata": {},
   "source": [
    "As of now, the simulation object still holds the old data for the fragmentation velocity. We have to tell it to update. We can either update the whole simulation frame with `Simulation.update()`, or we just update the fragmentation velocities."
   ]
  },
  {
   "cell_type": "code",
   "execution_count": 25,
   "metadata": {},
   "outputs": [],
   "source": [
    "sim.dust.v.frag.update()"
   ]
  },
  {
   "cell_type": "markdown",
   "metadata": {},
   "source": [
    "The fragmentation velocities should now show our desired behavior."
   ]
  },
  {
   "cell_type": "code",
   "execution_count": 26,
   "metadata": {
    "jupyter": {
     "source_hidden": true
    }
   },
   "outputs": [
    {
     "data": {
      "image/png": "[encoded data removed]",
      "text/plain": [
       "<Figure size 432x288 with 1 Axes>"
      ]
     },
     "metadata": {
      "needs_background": "light"
     },
     "output_type": "display_data"
    }
   ],
   "source": [
    "plt.semilogx(sim.grid.r/c.au, sim.dust.v.frag)\n",
    "plt.xlabel(\"Distance from star [AU]\")\n",
    "plt.ylabel(\"Fragmentation velocity [cm/s]\")\n",
    "plt.draw()"
   ]
  },
  {
   "cell_type": "markdown",
   "metadata": {},
   "source": [
    "**Note:** If you customized a quantity on which other quantities depend on, you also have to update these quantities. In our case this would be the sticking/fragmentation probabilites. So it is always better to update the whole simulation frame."
   ]
  },
  {
   "cell_type": "code",
   "execution_count": 27,
   "metadata": {},
   "outputs": [],
   "source": [
    "sim.update()"
   ]
  },
  {
   "cell_type": "markdown",
   "metadata": {},
   "source": [
    "## Adding Custom Fields\n",
    "\n",
    "We can not only modify existing fields, we can also create our own fields.\n",
    "\n",
    "In this example we want add another field `rsnow` to `Simulation.grid`, that gives us the location of the so called snowline, i.e., the location in the disk where water ice starts to sublime.\n",
    "\n",
    "First, we add the field and initialize it with zero."
   ]
  },
  {
   "cell_type": "code",
   "execution_count": 28,
   "metadata": {},
   "outputs": [],
   "source": [
    "sim.grid.addfield(\"rsnow\", 0., description=\"Snowline location [cm]\")"
   ]
  },
  {
   "cell_type": "markdown",
   "metadata": {},
   "source": [
    "The grid group has now a new member."
   ]
  },
  {
   "cell_type": "code",
   "execution_count": 29,
   "metadata": {},
   "outputs": [
    {
     "data": {
      "text/plain": [
       "Group (Grid quantities)\n",
       "-----------------------\n",
       "    m            : Field (Mass grid [g]), \u001b[95mconstant\u001b[0m\n",
       "    Nm           : Field (# of mass bins), \u001b[95mconstant\u001b[0m\n",
       "    Nr           : Field (# of radial grid cells), \u001b[95mconstant\u001b[0m\n",
       "    OmegaK       : Field (Keplerian frequency [1/s])\n",
       "    r            : Field (Radial grid cell centers [cm]), \u001b[95mconstant\u001b[0m\n",
       "    ri           : Field (Radial grid cell interfaces [cm]), \u001b[95mconstant\u001b[0m\n",
       "    rsnow        : Field (Snowline location [cm])\n",
       "  -----"
      ]
     },
     "execution_count": 29,
     "metadata": {},
     "output_type": "execute_result"
    }
   ],
   "source": [
    "sim.grid"
   ]
  },
  {
   "cell_type": "markdown",
   "metadata": {},
   "source": [
    "As a next step we have to write a function that returns us the location of the snowline. Here we simply use the first grid cell where the temperature is smaller than $150\\,\\mathrm{K}$ and return the value of the inner interface of that grid cell."
   ]
  },
  {
   "cell_type": "code",
   "execution_count": 30,
   "metadata": {},
   "outputs": [],
   "source": [
    "def rsnow(sim):\n",
    "    isnow = np.argmax(sim.gas.T<150.)\n",
    "    return sim.grid.ri[isnow]"
   ]
  },
  {
   "cell_type": "markdown",
   "metadata": {},
   "source": [
    "We assign this function to the updater of our snowline field."
   ]
  },
  {
   "cell_type": "code",
   "execution_count": 31,
   "metadata": {},
   "outputs": [],
   "source": [
    "sim.grid.rsnow.updater = rsnow"
   ]
  },
  {
   "cell_type": "markdown",
   "metadata": {},
   "source": [
    "And update the field."
   ]
  },
  {
   "cell_type": "code",
   "execution_count": 32,
   "metadata": {},
   "outputs": [],
   "source": [
    "sim.grid.rsnow.update()"
   ]
  },
  {
   "cell_type": "code",
   "execution_count": 33,
   "metadata": {},
   "outputs": [
    {
     "name": "stdout",
     "output_type": "stream",
     "text": [
      "The snowline is located at 3.05 AU.\n"
     ]
    }
   ],
   "source": [
    "print(\"The snowline is located at {:4.2f} AU.\".format(sim.grid.rsnow/c.au))"
   ]
  },
  {
   "cell_type": "markdown",
   "metadata": {},
   "source": [
    "Right now the temperature is constant throughout the simulation, because the stellar parameters do not change. To see an effect in our snowline location, we need to have a changing temperature profile.\n",
    "\n",
    "To achieve this, we let the stellar radius decrease from a value of $3\\,M_\\odot$ to $2\\,M_\\odot$ within the first $10,000\\,\\mathrm{yrs}$. This results in decreasing disk temperature. This is only for demonstration purposes and is not necessarily physical."
   ]
  },
  {
   "cell_type": "code",
   "execution_count": 34,
   "metadata": {},
   "outputs": [],
   "source": [
    "def Rstar(sim):\n",
    "    dR = -1.*c.R_sun\n",
    "    dt = 1.e4 * c.year\n",
    "    m = dR/dt\n",
    "    R = m*sim.t + 3.*c.R_sun\n",
    "    R = np.maximum(R, c.R_sun)\n",
    "    return R"
   ]
  },
  {
   "cell_type": "markdown",
   "metadata": {},
   "source": [
    "And assign this to the updater of the stellar radius."
   ]
  },
  {
   "cell_type": "code",
   "execution_count": 35,
   "metadata": {},
   "outputs": [],
   "source": [
    "sim.star.R.updater = Rstar"
   ]
  },
  {
   "cell_type": "markdown",
   "metadata": {},
   "source": [
    "## Modifying the Update Order"
   ]
  },
  {
   "cell_type": "markdown",
   "metadata": {},
   "source": [
    "But we are still not done, yet. We have given `DustPy` instructions how to update the snowline location, but we have not yet told it to actually update it regularily.\n",
    "\n",
    "`DustPy` calls `Simulation.update()`, the updater of the simulation object, once per timestep just before writing the data files. The updater of a group/field is basically a list of groups/fields, whose updater is called in that order.\n",
    "\n",
    "For the main simulation object this is"
   ]
  },
  {
   "cell_type": "code",
   "execution_count": 36,
   "metadata": {},
   "outputs": [],
   "source": [
    "sim.updater = [\"star\", \"grid\", \"gas\", \"dust\"]"
   ]
  },
  {
   "cell_type": "markdown",
   "metadata": {},
   "source": [
    "This means that if you call `Simulation.update()` you basically call `Simulation.star.update()`, `Simulation.grid.update()`, `Simulation.gas.update()`, and `Simulation.dust.update()` in that order.\n",
    "\n",
    "The updaters of the sub-groups and fields look as follows"
   ]
  },
  {
   "cell_type": "code",
   "execution_count": 37,
   "metadata": {},
   "outputs": [],
   "source": [
    "sim.star.updater = [\"M\", \"R\", \"T\", \"L\"]"
   ]
  },
  {
   "cell_type": "code",
   "execution_count": 38,
   "metadata": {},
   "outputs": [],
   "source": [
    "sim.grid.updater = [\"OmegaK\"]"
   ]
  },
  {
   "cell_type": "code",
   "execution_count": 39,
   "metadata": {},
   "outputs": [],
   "source": [
    "sim.gas.updater = [\"gamma\", \"mu\", \"T\", \"alpha\", \"cs\", \"Hp\", \"nu\", \"rho\", \"n\", \"mfp\", \"P\", \"eta\", \"v\", \"Fi\", \"S\"]\n",
    "sim.gas.S.updater = [\"hyd\", \"ext\", \"tot\"]\n",
    "sim.gas.v.updater = [\"visc\", \"rad\"]"
   ]
  },
  {
   "cell_type": "code",
   "execution_count": 40,
   "metadata": {},
   "outputs": [],
   "source": [
    "sim.dust.updater = [\"delta\", \"rhos\", \"fill\", \"a\", \"St\", \"H\", \"rho\", \"backreaction\", \"v\", \"D\", \"eps\", \"Fi\", \"kernel\", \"p\", \"S\"]\n",
    "sim.dust.backreaction.updater = [\"A\", \"B\"]\n",
    "sim.dust.delta.updater = [\"rad\", \"turb\", \"vert\"]\n",
    "sim.dust.Fi.updater = [\"adv\", \"diff\", \"tot\"]\n",
    "sim.dust.p.updater = [\"frag\", \"stick\"]\n",
    "sim.dust.S.updater = [\"coag\", \"hyd\", \"ext\", \"tot\"]\n",
    "sim.dust.v.updater = [\"frag\", \"driftmax\", \"rad\", \"rel\"]\n",
    "sim.dust.v.rel.updater = [\"azi\", \"brown\", \"rad\", \"turb\", \"vert\", \"tot\"]"
   ]
  },
  {
   "cell_type": "markdown",
   "metadata": {},
   "source": [
    "As you can see, the grid updater is only updating the Keplerian frequency, but not our snowline location. So we can simply adding it to the list."
   ]
  },
  {
   "cell_type": "code",
   "execution_count": 41,
   "metadata": {},
   "outputs": [],
   "source": [
    "sim.grid.updater = [\"OmegaK\", \"rsnow\"]"
   ]
  },
  {
   "cell_type": "markdown",
   "metadata": {},
   "source": [
    "## Systoles and Diastoles\n",
    "\n",
    "However, the previous solution has a conceptional problem. As you can see from the update order previously the grid is updated before the gas. The snowline location, however, needs the gas temperature and, therefore, has to be updated after the gas. But we also cannot update the grid as a whole after the gas, because the gas updaters need the Keplerian frequency. We need another solution.\n",
    "\n",
    "But first, we revert the grid updater."
   ]
  },
  {
   "cell_type": "code",
   "execution_count": 42,
   "metadata": {},
   "outputs": [],
   "source": [
    "sim.grid.updater = [\"OmegaK\"]"
   ]
  },
  {
   "cell_type": "markdown",
   "metadata": {},
   "source": [
    "Every updater has a systole and a diastole. That is a function that is called before respectively after the actual updater. Since no other quantity depends on our snowline location, we can simply update it at the end and put it in the diastole of the main updater.\n",
    "\n",
    "We therefore write a diastole function, that is updating the snowline location separately."
   ]
  },
  {
   "cell_type": "code",
   "execution_count": 43,
   "metadata": {},
   "outputs": [],
   "source": [
    "def diastole(sim):\n",
    "    sim.grid.rsnow.update()"
   ]
  },
  {
   "cell_type": "markdown",
   "metadata": {},
   "source": [
    "And assign this function to the diastole of the main updater."
   ]
  },
  {
   "cell_type": "code",
   "execution_count": 44,
   "metadata": {},
   "outputs": [],
   "source": [
    "sim.updater.diastole = diastole"
   ]
  },
  {
   "cell_type": "markdown",
   "metadata": {},
   "source": [
    "Every time `Simulation.update()` is called now, `Simulation.grid.rsnow.update()` will be called at the end of it."
   ]
  },
  {
   "cell_type": "markdown",
   "metadata": {},
   "source": [
    "## Customizing the Snapshots\n",
    "\n",
    "As already explained in a previous chapter, the snapshots can be customized by simply setting `Simulation.t.snapshots`. In this example we only want to run the simulation for $10,000\\,\\mathrm{yrs}$."
   ]
  },
  {
   "cell_type": "code",
   "execution_count": 45,
   "metadata": {},
   "outputs": [],
   "source": [
    "sim.t.snapshots = np.logspace(3., 4., num=21, base=10.) * c.year"
   ]
  },
  {
   "cell_type": "markdown",
   "metadata": {},
   "source": [
    "We can now change the data directory to avoid an overwrite error and start the simulation with our modifications."
   ]
  },
  {
   "cell_type": "code",
   "execution_count": 46,
   "metadata": {},
   "outputs": [],
   "source": [
    "sim.writer.datadir = \"3_data\""
   ]
  },
  {
   "cell_type": "code",
   "execution_count": 47,
   "metadata": {},
   "outputs": [
    {
     "name": "stdout",
     "output_type": "stream",
     "text": [
      "\n",
      "DustPy v0.1.0\n",
      "\n",
      "Documentation: https://dustpy.rtfd.io\n",
      "PyPI:          https://pypi.org/project/dustpy\n",
      "GitHub:        https://github.com/stammler/dustpy\n",
      "\n",
      "Please cite:   Stammler & Birnstiel (in prep.)\n",
      "\n",
      "\u001b[93mChecking for mass conservation...\n",
      "\u001b[0m\n",
      "\u001b[93m    - Sticking:\u001b[0m\n",
      "\u001b[98m        max. rel. error: \u001b[92m 2.81e-14\u001b[0m\n",
      "        for particle collision\n",
      "            m[114] =  1.93e+04 g    with\n",
      "            m[116] =  3.73e+04 g\u001b[0m\n",
      "\u001b[93m    - Full fragmentation:\u001b[0m\n",
      "\u001b[98m        max. rel. error: \u001b[92m 3.33e-16\u001b[0m\n",
      "        for particle collision\n",
      "            m[4] =  3.73e-12 g    with\n",
      "            m[6] =  7.20e-12 g\u001b[0m\n",
      "\u001b[93m    - Cratering:\u001b[0m\n",
      "\u001b[98m        max. rel. error: \u001b[92m 1.78e-15\u001b[0m\n",
      "        for particle collision\n",
      "            m[110] =  5.18e+03 g    with\n",
      "            m[118] =  7.20e+04 g\n",
      "\u001b[0m\n",
      "Creating data directory '3_data'.\n",
      "Writing file \u001b[94m3_data/data0000.hdf5\u001b[0m\n",
      "Writing dump file \u001b[94m3_data/frame.dmp\u001b[0m\n",
      "Writing file \u001b[94m3_data/data0001.hdf5\u001b[0m\n",
      "Writing dump file \u001b[94m3_data/frame.dmp\u001b[0m\n",
      "Writing file \u001b[94m3_data/data0002.hdf5\u001b[0m\n",
      "Writing dump file \u001b[94m3_data/frame.dmp\u001b[0m\n",
      "Writing file \u001b[94m3_data/data0003.hdf5\u001b[0m\n",
      "Writing dump file \u001b[94m3_data/frame.dmp\u001b[0m\n",
      "Writing file \u001b[94m3_data/data0004.hdf5\u001b[0m\n",
      "Writing dump file \u001b[94m3_data/frame.dmp\u001b[0m\n",
      "Writing file \u001b[94m3_data/data0005.hdf5\u001b[0m\n",
      "Writing dump file \u001b[94m3_data/frame.dmp\u001b[0m\n",
      "Writing file \u001b[94m3_data/data0006.hdf5\u001b[0m\n",
      "Writing dump file \u001b[94m3_data/frame.dmp\u001b[0m\n",
      "Writing file \u001b[94m3_data/data0007.hdf5\u001b[0m\n",
      "Writing dump file \u001b[94m3_data/frame.dmp\u001b[0m\n",
      "Writing file \u001b[94m3_data/data0008.hdf5\u001b[0m\n",
      "Writing dump file \u001b[94m3_data/frame.dmp\u001b[0m\n",
      "Writing file \u001b[94m3_data/data0009.hdf5\u001b[0m\n",
      "Writing dump file \u001b[94m3_data/frame.dmp\u001b[0m\n",
      "Writing file \u001b[94m3_data/data0010.hdf5\u001b[0m\n",
      "Writing dump file \u001b[94m3_data/frame.dmp\u001b[0m\n",
      "Writing file \u001b[94m3_data/data0011.hdf5\u001b[0m\n",
      "Writing dump file \u001b[94m3_data/frame.dmp\u001b[0m\n",
      "Writing file \u001b[94m3_data/data0012.hdf5\u001b[0m\n",
      "Writing dump file \u001b[94m3_data/frame.dmp\u001b[0m\n",
      "Writing file \u001b[94m3_data/data0013.hdf5\u001b[0m\n",
      "Writing dump file \u001b[94m3_data/frame.dmp\u001b[0m\n",
      "Writing file \u001b[94m3_data/data0014.hdf5\u001b[0m\n",
      "Writing dump file \u001b[94m3_data/frame.dmp\u001b[0m\n",
      "Writing file \u001b[94m3_data/data0015.hdf5\u001b[0m\n",
      "Writing dump file \u001b[94m3_data/frame.dmp\u001b[0m\n",
      "Writing file \u001b[94m3_data/data0016.hdf5\u001b[0m\n",
      "Writing dump file \u001b[94m3_data/frame.dmp\u001b[0m\n",
      "Writing file \u001b[94m3_data/data0017.hdf5\u001b[0m\n",
      "Writing dump file \u001b[94m3_data/frame.dmp\u001b[0m\n",
      "Writing file \u001b[94m3_data/data0018.hdf5\u001b[0m\n",
      "Writing dump file \u001b[94m3_data/frame.dmp\u001b[0m\n",
      "Writing file \u001b[94m3_data/data0019.hdf5\u001b[0m\n",
      "Writing dump file \u001b[94m3_data/frame.dmp\u001b[0m\n",
      "Writing file \u001b[94m3_data/data0020.hdf5\u001b[0m\n",
      "Writing dump file \u001b[94m3_data/frame.dmp\u001b[0m\n",
      "Writing file \u001b[94m3_data/data0021.hdf5\u001b[0m\n",
      "Writing dump file \u001b[94m3_data/frame.dmp\u001b[0m\n",
      "Execution time: \u001b[94m0:19:29\u001b[0m\n"
     ]
    }
   ],
   "source": [
    "sim.run()"
   ]
  },
  {
   "cell_type": "markdown",
   "metadata": {},
   "source": [
    "We can now have a look at the result of our modifications."
   ]
  },
  {
   "cell_type": "code",
   "execution_count": 48,
   "metadata": {},
   "outputs": [],
   "source": [
    "from dustpy import plot"
   ]
  },
  {
   "cell_type": "code",
   "execution_count": 49,
   "metadata": {},
   "outputs": [
    {
     "data": {
      "image/png": "[encoded data removed]",
      "text/plain": [
       "<Figure size 1800x741.656 with 7 Axes>"
      ]
     },
     "metadata": {
      "needs_background": "light"
     },
     "output_type": "display_data"
    }
   ],
   "source": [
    "plot.panel(sim)"
   ]
  },
  {
   "cell_type": "markdown",
   "metadata": {},
   "source": [
    "The change in fragmentation velocity has an obvious effect on the particles sizes.\n",
    "\n",
    "To check the time evolution of the snowline, we have to read the data. The gray lines are the positions of the grid cells and snapshots, which explains the discrete behavior of the snowline location."
   ]
  },
  {
   "cell_type": "code",
   "execution_count": 50,
   "metadata": {},
   "outputs": [],
   "source": [
    "data = sim.writer.read.all()"
   ]
  },
  {
   "cell_type": "code",
   "execution_count": 51,
   "metadata": {
    "jupyter": {
     "source_hidden": true
    }
   },
   "outputs": [
    {
     "data": {
      "image/png": "[encoded data removed]",
      "text/plain": [
       "<Figure size 432x288 with 1 Axes>"
      ]
     },
     "metadata": {
      "needs_background": "light"
     },
     "output_type": "display_data"
    }
   ],
   "source": [
    "plt.semilogx(data.t/c.year, data.grid.rsnow/c.au)\n",
    "plt.hlines(data.grid.ri/c.au, 1.e3, 1e4, lw=1, color=\"gray\", alpha=0.25)\n",
    "plt.vlines(data.t/c.year, 2.5, 5.5, lw=1, color=\"gray\", alpha=0.25)\n",
    "plt.xlim(1.e3, 1.e4)\n",
    "plt.ylim(2.5, 5.5)\n",
    "plt.xlabel(\"Time [yr]\")\n",
    "plt.ylabel(\"Snowline location [AU]\")\n",
    "plt.draw()"
   ]
  }
 ],
 "metadata": {
  "kernelspec": {
   "display_name": "Python 3",
   "language": "python",
   "name": "python3"
  },
  "language_info": {
   "codemirror_mode": {
    "name": "ipython",
    "version": 3
   },
   "file_extension": ".py",
   "mimetype": "text/x-python",
   "name": "python",
   "nbconvert_exporter": "python",
   "pygments_lexer": "ipython3",
   "version": "3.8.5"
  }
 },
 "nbformat": 4,
 "nbformat_minor": 4
}
